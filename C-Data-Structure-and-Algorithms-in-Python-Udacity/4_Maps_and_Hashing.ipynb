{
 "cells": [
  {
   "cell_type": "markdown",
   "metadata": {},
   "source": [
    "## Introduction to Maps\n",
    "- Key and value structure \n",
    "- Maps are also called dictionary for similar reason \n",
    "- word = key; definition = value\n",
    "\n",
    "https://www.youtube.com/watch?v=JEw3iQAnGKQ"
   ]
  },
  {
   "cell_type": "markdown",
   "metadata": {},
   "source": [
    "## Sets and Maps\n",
    "\n",
    "- Sets: is another one of these broad abstract concepts. \n",
    "- It is also vaguely a collection of things \n",
    "- Lists and Sets: \n",
    "    - lists have some order for its elements. Sets do not have an order. \n",
    "    - Lists allows duplicate values. Sets do not allow duplicate values. \n",
    "- Map = <Key, Value>\n",
    "    - A map is a set based datastructure. Similar to array being a list based data structure. \n",
    "    (each array has an index. Lists do not have index)\n",
    "    - A group of **keys** is a **set**. Since each key exists only once.\n",
    "    - A each key can have more than one definition in a Map.  \n",
    "\n",
    "https://www.youtube.com/watch?v=gmIb-qZhTDQ"
   ]
  },
  {
   "cell_type": "markdown",
   "metadata": {},
   "source": [
    "## Python Dictionaries \n",
    "\n",
    "In Python, the map concept appears as a built-in data type called a dictionary. A dictionary contains key-value pairs. Dictionaries might soon become your favorite data structure in Python—they're extremely easy to use and useful. Here's a sample of setting up a dictionary"
   ]
  },
  {
   "cell_type": "code",
   "execution_count": 1,
   "metadata": {},
   "outputs": [
    {
     "name": "stdout",
     "output_type": "stream",
     "text": [
      "{'u': 1, 'd': 2, 'a': 3, 'c': 4, 'i': 5, 't': 6, 'y': 7}\n",
      "6\n"
     ]
    }
   ],
   "source": [
    "udacity = {}\n",
    "udacity['u'] = 1\n",
    "udacity['d'] = 2\n",
    "udacity['a'] = 3\n",
    "udacity['c'] = 4\n",
    "udacity['i'] = 5\n",
    "udacity['t'] = 6\n",
    "udacity['y'] = 7\n",
    "\n",
    "print(udacity)\n",
    "# {'u': 1, 'd': 2, 'a': 3, 'c': 4, 'i': 5, 't': 6, 'y': 7}\n",
    "print(udacity['t'])\n",
    "# 6"
   ]
  },
  {
   "cell_type": "code",
   "execution_count": 11,
   "metadata": {},
   "outputs": [],
   "source": [
    "\"\"\"Time to play with Python dictionaries!\n",
    "You're going to work on a dictionary that\n",
    "stores cities by country and continent.\n",
    "One is done for you - the city of Mountain \n",
    "View is in the USA, which is in North America.\n",
    "\n",
    "You need to add the cities listed below by\n",
    "modifying the structure.\n",
    "Then, you should print out the values specified\n",
    "by looking them up in the structure.\n",
    "\n",
    "Cities to add:\n",
    "Bangalore (India, Asia)\n",
    "Atlanta (USA, North America)\n",
    "Cairo (Egypt, Africa)\n",
    "Shanghai (China, Asia)\"\"\"\n",
    "\n",
    "locations = {'North America': {'USA': ['Mountain View']}}\n",
    "\n",
    "locations['Asia'] = {'India':{'Bangalore'}}\n",
    "\n",
    "locations['North America']['USA'].append('Atlanta')\n",
    "\n",
    "locations['Aftrica'] = {'Egypt':{'Cairo'}}\n",
    "\n",
    "locations['Asia']['China'] = {'Shanghai'}"
   ]
  },
  {
   "cell_type": "code",
   "execution_count": 12,
   "metadata": {},
   "outputs": [
    {
     "data": {
      "text/plain": [
       "{'North America': {'USA': ['Mountain View', 'Atlanta']},\n",
       " 'Asia': {'India': {'Bangalore'}, 'China': {'Shanghai'}},\n",
       " 'Aftrica': {'Egypt': {'Cairo'}}}"
      ]
     },
     "execution_count": 12,
     "metadata": {},
     "output_type": "execute_result"
    }
   ],
   "source": [
    "locations"
   ]
  },
  {
   "cell_type": "code",
   "execution_count": 15,
   "metadata": {},
   "outputs": [
    {
     "data": {
      "text/plain": [
       "{'USA': ['Mountain View', 'Atlanta']}"
      ]
     },
     "execution_count": 15,
     "metadata": {},
     "output_type": "execute_result"
    }
   ],
   "source": [
    "locations['North America']"
   ]
  },
  {
   "cell_type": "code",
   "execution_count": 16,
   "metadata": {},
   "outputs": [
    {
     "data": {
      "text/plain": [
       "['Mountain View', 'Atlanta']"
      ]
     },
     "execution_count": 16,
     "metadata": {},
     "output_type": "execute_result"
    }
   ],
   "source": [
    "locations['North America']['USA']"
   ]
  },
  {
   "cell_type": "code",
   "execution_count": 27,
   "metadata": {},
   "outputs": [
    {
     "data": {
      "text/plain": [
       "list"
      ]
     },
     "execution_count": 27,
     "metadata": {},
     "output_type": "execute_result"
    }
   ],
   "source": [
    "a = locations['North America']['USA']\n",
    "a.sort()\n",
    "type(a)"
   ]
  },
  {
   "cell_type": "code",
   "execution_count": 31,
   "metadata": {},
   "outputs": [
    {
     "name": "stdout",
     "output_type": "stream",
     "text": [
      "Atlanta Mountain View\n"
     ]
    },
    {
     "data": {
      "text/plain": [
       "{'India': {'Bangalore'}, 'China': {'Shanghai'}}"
      ]
     },
     "execution_count": 31,
     "metadata": {},
     "output_type": "execute_result"
    }
   ],
   "source": [
    "\"\"\"Print the following (using \"print\").\n",
    "1. A list of all cities in the USA in\n",
    "alphabetic order.\n",
    "2. All cities in Asia, in alphabetic\n",
    "order, next to the name of the country.\n",
    "In your output, label each answer with a number\n",
    "so it looks like this:\n",
    "1\n",
    "American City\n",
    "American City\n",
    "\n",
    "2\n",
    "Asian City - Country\n",
    "Asian City - Country\"\"\"\n",
    "\n",
    "# 1\n",
    "USA_cities = locations['North America']['USA']\n",
    "USA_cities.sort()\n",
    "print(*USA_cities)\n",
    "\n",
    "# 2\n",
    "x = locations['Asia']\n",
    "s = {k: v for k, v in sorted(x.items(), key=lambda item: item[1])}\n",
    "for key, value in "
   ]
  },
  {
   "cell_type": "code",
   "execution_count": 41,
   "metadata": {},
   "outputs": [
    {
     "name": "stdout",
     "output_type": "stream",
     "text": [
      "1\n",
      "Atlanta\n",
      "Mountain View\n",
      "2\n",
      "Works only for python 2\n",
      "{'Bangalore'} - India\n",
      "{'Shanghai'} - China\n"
     ]
    }
   ],
   "source": [
    "print(1)\n",
    "usa_sorted = sorted(locations['North America']['USA'])\n",
    "for city in usa_sorted:\n",
    "    print(city)\n",
    "\n",
    "print(2)\n",
    "print(\"Works only for python 2\")\n",
    "asia_cities = []\n",
    "for countries, cities in locations['Asia'].items():\n",
    "    city_country = str(cities) + \" - \" + countries \n",
    "    asia_cities.append(city_country)\n",
    "asia_sorted = sorted(asia_cities)\n",
    "for city in asia_sorted:\n",
    "    print(city)"
   ]
  },
  {
   "cell_type": "markdown",
   "metadata": {},
   "source": [
    "## Introduction to Hashing \n",
    "- Using a data-structure that employs a Hash Function allows you to do lookups in constant time. \n",
    "- Do lookups in linear time in list or set. You need to do look ups in linear time. \n",
    "\n",
    "Stacks and queues allows you to look up the oldest or the newest element in constant time. Priority queues allows you to find the highest priority element instantaneously. But for other elements you need a linear time search. \n",
    "\n",
    "The ability to do constant time look ups will make almost any algorithm you write instantaneously faster. \n",
    "- You can almost always optimize an answer, or improve an answer with it, or reduce a complex question, to just use a hash function\n",
    "\n",
    "https://www.youtube.com/watch?v=8yik3RlDFgM\n"
   ]
  },
  {
   "cell_type": "markdown",
   "metadata": {},
   "source": [
    "## Hash Functions\n",
    "\n",
    "The purpose of a hash function is to transform some value into one that can be stored and retrieved easily. You give it some value, it converts the value based on some formula, and spits out a coded version of a value that's often the index in an array. \n",
    "\n",
    "You give your number to a hash function, which spits out a hash code that turns into the index of an array. You can go to your array and get your original value in constant time, since an array look up with an index happens in constant time. \n",
    "\n",
    "Why use the last few digits? Because in most cases the last few digits are the most random. If you're assigning your numbers in numerical order the first few digits wouldn't be random. \n",
    "\n",
    "https://www.youtube.com/watch?v=kCPFfHx_LgQ"
   ]
  },
  {
   "cell_type": "markdown",
   "metadata": {},
   "source": [
    "## Collisions\n",
    "\n",
    "As it turns out there is a flaw in our elegant system. There are times when a hash function will spit out the same hash value for 2 different inputs. This situation is termed as Collision. \n",
    "\n",
    "Fixes:\n",
    "1. Change the value in your hash function, or to change the hash function completely, so you have more thna enough slots to store all of your potential values. \n",
    "    - You can maintain constant time look up but by using a bigger number in your hash function, you're going to require a lot more space to store your values. \n",
    "    - If you do it reactively and change the value range in your hash function, you will have to move your data to a new larger array is going to increase the complexity in terms of time and size.         \n",
    "2. Change the structure of your array. Instead of storing one hash value in eash slot, you can store some type of lists that contains all values hashed at that spot. These lists are called **buckets** (a collection of values)\n",
    "    - You still need to itteratte through all the elements in the bucket. Though these buckets are smaller. \n",
    "    - Best Case O(1)\n",
    "    - Worst Case O(n) - case when all elements are in the same bucket. So you are itterating though all the elements to find the one you are looking for. \n",
    "    - Get more creative by having a second level hash function which splits the elements in each buckets. \n",
    "    \n",
    "https://www.youtube.com/watch?v=BUaWIjZ_ToY"
   ]
  },
  {
   "cell_type": "markdown",
   "metadata": {},
   "source": [
    "## Load Factor \n",
    "\n",
    "When we're talking about hash tables, we can define a \"load factor\":\n",
    "- Load Factor = Number of Entries / Number of Buckets\n",
    "\n",
    "The purpose of a load factor is to give us a sense of how \"full\" a hash table is. For example, if we're trying to store 10 values in a hash table with 1000 buckets, the load factor would be 0.01, and the majority of buckets in the table will be empty. We end up wasting memory by having so many empty buckets, so we may want to rehash, or come up with a new hash function with less buckets. We can use our load factor as an indicator for when to rehash—as the load factor approaches 0, the more empty, or sparse, our hash table is.\n",
    "\n",
    "On the flip side, the closer our load factor is to 1 (meaning the number of values equals the number of buckets), the better it would be for us to rehash and add more buckets. Any table with a load value greater than 1 is guaranteed to have collisions."
   ]
  },
  {
   "cell_type": "markdown",
   "metadata": {},
   "source": [
    "## Hash Maps\n",
    "\n",
    "- Hash maps are one of the main places where you'll see hash function show up. \n",
    "- In the previous example we were just using a hash function to fimd a place to store keys. \n",
    "- However, Maps have keys and values. You can use the keys as inputs to a hash function. then store the key value pair in the bucket of the hash value produced by the function. \n",
    "- again, since you know that the keys in the map are unique since they belong to a set you could use a hash function to give them each their own unique buckets. \n",
    "- You can also design a hash function to allow for collisions. \n",
    "\n",
    "Understand the upsides and downsides of a designing a hash function. Hash functions are very useful to integrate into algorithms. Constant time look ups and really speed up your code. \n",
    "\n",
    "https://www.youtube.com/watch?v=A-ahUVi8pYQ"
   ]
  },
  {
   "cell_type": "markdown",
   "metadata": {},
   "source": [
    "## String Keys \n",
    "\n",
    "- Hashing can work with string keys too. You need a hash function that converts letters to numbers. eg. \n",
    "    - ASCII works well for single letter to numeric convertsion \n",
    "    - For larger number of letter you can use the formula given below:\n",
    "    s[0]*31^(n-1) + s[1]*31^(n-2) + s[2]*31^(n-3) + ..... + s[n-1]\n",
    "    UD where U = 85, D= 68; \n",
    "    (85*31^1)  + 68   \n",
    "    = 2703\n",
    "\n",
    "https://www.youtube.com/watch?v=WyFwieF1NN4"
   ]
  },
  {
   "cell_type": "markdown",
   "metadata": {},
   "source": [
    "## String Keys Practice\n",
    "\n",
    "In this quiz, you'll write your own hash table and hash function that uses string keys. Your table will store strings in buckets by their first two letters, according to the formula below:\n",
    "\n",
    "Hash Value = (ASCII Value of First Letter * 100) + ASCII Value of Second Letter \n",
    "\n",
    "You can assume that the string will have at least two letters, and the first two characters are uppercase letters (ASCII values from 65 to 90). You can use the Python function \n",
    "- ord() to get the ASCII value of a letter, and \n",
    "- chr() to get the letter associated with an ASCII value.\n",
    "\n",
    "You'll create a HashTable class, methods to store and lookup values, and a helper function to calculate a hash value given a string. You cannot use a Python dictionary—only lists! And remember to store lists at each bucket, and not just the string itself. For example, you can store \"UDACITY\" at index 8568 as [\"UDACITY\"].\n",
    "\n",
    "Start Quiz"
   ]
  },
  {
   "cell_type": "code",
   "execution_count": 45,
   "metadata": {},
   "outputs": [
    {
     "name": "stdout",
     "output_type": "stream",
     "text": [
      "8568\n",
      "-1\n",
      "8568\n",
      "8568\n"
     ]
    }
   ],
   "source": [
    "\"\"\"Write a HashTable class that stores strings\n",
    "in a hash table, where keys are calculated\n",
    "using the first two letters of the string.\"\"\"\n",
    "\n",
    "class HashTable(object):\n",
    "    def __init__(self):\n",
    "        self.table = [None]*10000\n",
    "\n",
    "    def store(self, string):\n",
    "        hv = self.calculate_hash_value(string)\n",
    "        if hv != -1:\n",
    "            if self.table[hv] != None:\n",
    "                self.table[hv].append(string)\n",
    "            else:\n",
    "                self.table[hv] = [string]\n",
    "\n",
    "    def lookup(self, string):\n",
    "        hv = self.calculate_hash_value(string)\n",
    "        if hv != -1:\n",
    "            if self.table[hv] != None:\n",
    "                if string in self.table[hv]:\n",
    "                    return hv\n",
    "        return -1\n",
    "\n",
    "    def calculate_hash_value(self, string):\n",
    "        value = ord(string[0])*100 + ord(string[1])\n",
    "        return value\n",
    "    \n",
    "# Setup\n",
    "hash_table = HashTable()\n",
    "\n",
    "# Test calculate_hash_value\n",
    "# Should be 8568\n",
    "print(hash_table.calculate_hash_value('UDACITY'))\n",
    "\n",
    "# Test lookup edge case\n",
    "# Should be -1\n",
    "print(hash_table.lookup('UDACITY'))\n",
    "\n",
    "#Test store\n",
    "hash_table.store('UDACITY')\n",
    "# Should be 8568\n",
    "print(hash_table.lookup('UDACITY'))\n",
    "\n",
    "# Test store edge case\n",
    "hash_table.store('UDACIOUS')\n",
    "# Should be 8568\n",
    "print(hash_table.lookup('UDACIOUS'))"
   ]
  },
  {
   "cell_type": "code",
   "execution_count": null,
   "metadata": {},
   "outputs": [],
   "source": []
  }
 ],
 "metadata": {
  "kernelspec": {
   "display_name": "Python 3",
   "language": "python",
   "name": "python3"
  },
  "language_info": {
   "codemirror_mode": {
    "name": "ipython",
    "version": 3
   },
   "file_extension": ".py",
   "mimetype": "text/x-python",
   "name": "python",
   "nbconvert_exporter": "python",
   "pygments_lexer": "ipython3",
   "version": "3.8.5"
  }
 },
 "nbformat": 4,
 "nbformat_minor": 4
}
