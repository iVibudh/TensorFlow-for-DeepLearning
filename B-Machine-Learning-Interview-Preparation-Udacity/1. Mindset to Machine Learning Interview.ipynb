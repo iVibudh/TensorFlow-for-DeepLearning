{
 "cells": [
  {
   "cell_type": "markdown",
   "metadata": {},
   "source": [
    "# Mindset and Skills \n",
    "\n",
    "- Computer Science Fundamentals & programming Techniques\n",
    "- Probability and Statistics\n",
    "- Data Modeling and Evaluation \n",
    "- Applying Machine Learning Algorithms and Libraries\n",
    "- Software Engineering & system Design"
   ]
  },
  {
   "cell_type": "markdown",
   "metadata": {},
   "source": [
    "# Get into the Right Mindset\n",
    "\n",
    "You ...<br>\n",
    "are preparing for interviews for jobs in machine learning, data science, or research <br>\n",
    "are interested in tackling interviews less as a \"test\" and more like a conversation <br>\n",
    "want to show how your journey — whether you're entry-level, a career changer, or upskilling — prepares you for the job <br>\n",
    "\n",
    "\n",
    "In this course, we will cover interviewing techniques and walkthroughs of common questions with all of the above in mind. You will first walk through the following:\n",
    "- **Go inside the mind of the employer** - why is the company hiring for this role?\n",
    "- **Identify a business problem** - showcase you're interested in solving the root issues in order to prevent further problems.\n",
    "- **Explore potential data sources** - see how your solution depends on your unique dataset.\n",
    "- **Discuss machine learning solutions** - get familiar with answering interview questions for this unique field.\n",
    "- **Practice answering technical questions** - bolster your confidence for interview day by practicing interview techniques."
   ]
  },
  {
   "cell_type": "markdown",
   "metadata": {},
   "source": [
    "# Identify a Business Problem \n",
    "\n",
    "**Go inside the mind of the employer**\n",
    "If a company wants to hire a machine learning engineer (or data analyst or scientist), it’s clear that they are trying to solve a complex problem where traditional algorithmic solutions are hard to apply or simply do not work well enough. They are also extremely motivated to solve that problem (otherwise they wouldn’t be in this business!).\n",
    "\n",
    "**Reflection Exercise**\n",
    "Before the interview, or even before you apply to a job, investigate possible answers to these questions:\n",
    "\n",
    "**Why is the company hiring?**\n",
    "Does it look like they're backfilling (ie: someone left the company or was promoted, so they need to fill in the job)? Or, are they expanding their team (therefore investing more in data science) or even starting their data team for the first time? These answers will help you see how you're needed. If the company is looking for a member of a large team, they likely need you to fill in a specific role and may want you to show expert skill in a specialization. If they're building out their data team, they may be looking for someone who's a fast learner and can help them make decisions - since they may not know what they need from a data team.\n",
    "\n",
    "**How will this company's data team grow?**\n",
    "This will give you insight on longterm opportunities for you. If they're growing rapidly, that may signal you have potential to become a team lead in the future.\n",
    "\n",
    "**Which business problem are they trying to solve?**\n",
    "Identify a Business Problem <br>\n",
    "Imagine yourself in the role – find out as much as possible about the company and position. Then ask yourself: What is one core problem I need to solve? The answer should excite you, and drive you to find out more about the problem, existing approaches, and recent developments in that domain. Choose a problem that is essential for the company.\n",
    "\n",
    "For example, as a Machine Learning Engineer at Udacity, your primary responsibility could be to improve student engagement and retention. It is widely known that MOOC (Massive Open Online Courses) completion rates are abysmally low. Why do students drop out of our programs? Do they find our content too hard, or too easy? How can we improve student engagement in the classroom?\n",
    "\n",
    "Although you may not be able to figure this out, you can think of realistic possibilities. For example, an e-vendor may want to make better recommendations based on search history. A healthcare company may want to better predict health risks. When you are in the interview, connect your past experiences to how you can fix these hypothetical issues.\n",
    "\n",
    "What else?\n",
    "Don't forget to ask your interviewers the questions in this exercise, also! Not only do you want to know the answers, asking will showcase your interest and thoughtfulness."
   ]
  },
  {
   "cell_type": "markdown",
   "metadata": {},
   "source": [
    "# Prepare to discuss ML Solutions \n",
    "\n",
    "**Explore Potential Data Sources**\n",
    "Next, think about what data you would need to answer these questions. Some of this may be readily available, while you may have to build in additional hooks to gather certain pieces of information. Dig into the company’s infrastructure and operations - **what stack do they operate on, what APIs do they have, what data are they already collecting, etc.** Most companies today have a blog where they often discuss their challenges, approaches, successes, and failures. This should give you further insight into how they operate, and what products and services they might have in the pipeline.\n",
    "\n",
    "**Prepare to Discuss Machine Learning Solutions**\n",
    "Now that you have a business problem to solve, you need to frame it in terms of machine learning. Given what you’re trying to achieve, and the data you think might be available, can you frame it as an ML problem?\n",
    "\n",
    "Here are a couple questions to ask yourself:\n",
    "\n",
    "- **What is an appropriate model to use?**\n",
    "- **How would you go about training and evaluating it?**  For example, the primary challenge that a lot of recommendation systems like Netflix and Amazon face is clustering, not prediction - i.e. once you are able to figure out groups of users who seem to have similar preference and behavior, it becomes a whole lot easier to recommend products that they may find useful.\n",
    "This thought process will help you be prepared to talk about issues that matter to the company the most. Nobody expects you to walk into an interview and lay out a complete solution for something they’ve been working hard on for months or years! But everybody likes a candidate who shows genuine interest, motivation, and curiosity for a problem that is close to their hearts.\n",
    "\n",
    "Depending on your interviewer and the stage of your interview, you may be asked more technical questions, but you should try to use any opportunity you get to demonstrate that you have thought about the company and role.\n",
    "\n",
    "**Pro Tip:** When asked more open-ended questions such as “Describe a technical challenge you faced when working on a project and how you solved it,” try to pick something that aligns well with the company’s interests."
   ]
  },
  {
   "cell_type": "markdown",
   "metadata": {},
   "source": [
    "# Focus on Essential Skills\n",
    "\n",
    "### Prepare to Demonstrate these Technical Skills\n",
    "Here are the essential skills that a Machine Learning Engineer needs, as mentioned in the first video of this lesson. Within each group are topics that you should be familiar with.\n",
    "\n",
    "#### Computer Science Fundamentals and Programming\n",
    "Topics\n",
    "- Data structures: Lists, stacks, queues, strings, hash maps, vectors, matrices, classes & objects, trees, graphs, etc.\n",
    "- Algorithms: Recursion, searching, sorting, optimization, dynamic programming, etc.\n",
    "- Computability and complexity: P vs. NP, NP-complete problems, big-O notation, approximate algorithms, etc.\n",
    "- Computer architecture: Memory, cache, bandwidth, threads & processes, deadlocks, etc.\n",
    "\n",
    "#### Probability and Statistics\n",
    "Topics\n",
    "- Basic probability: Conditional probability, Bayes rule, likelihood, independence, etc.\n",
    "- Probabilistic models: Bayes Nets, Markov Decision Processes, Hidden Markov Models, etc.\n",
    "- Statistical measures: Mean, median, mode, variance, population parameters vs. sample statistics etc.\n",
    "- Proximity and error metrics: Cosine similarity, mean-squared error, Manhattan and Euclidean distance, log-loss, etc.\n",
    "- Distributions and random sampling: Uniform, normal, binomial, Poisson, etc.\n",
    "- Analysis methods: ANOVA, hypothesis testing, factor analysis, etc.\n",
    "\n",
    "#### Data Modeling and Evaluation\n",
    "Topics\n",
    "- Data preprocessing: Munging/wrangling, transforming, aggregating, etc.\n",
    "- Pattern recognition: Correlations, clusters, trends, outliers & anomalies, etc.\n",
    "- Dimensionality reduction: Eigenvectors, Principal Component Analysis, etc.\n",
    "- Prediction: Classification, regression, sequence prediction, etc.; suitable error/accuracy metrics.\n",
    "- Evaluation: Training-testing split, sequential vs. randomized cross-validation, etc.\n",
    "\n",
    "#### Applying Machine Learning Algorithms and Libraries\n",
    "Topics\n",
    "- Models: Parametric vs. nonparametric, decision tree, nearest neighbor, neural net, support vector machine, ensemble of multiple models, etc.\n",
    "- Learning procedure: Linear regression, gradient descent, genetic algorithms, bagging, boosting, and other model-specific methods; regularization, hyperparameter tuning, etc.\n",
    "- Tradeoffs and gotchas: Relative advantages and disadvantages, bias and variance, overfitting and underfitting, vanishing/exploding gradients, missing data, data leakage, etc.\n",
    "\n",
    "#### Software Engineering and System Design\n",
    "Topics\n",
    "- Software interface: Library calls, REST APIs, data collection endpoints, database queries, etc.\n",
    "- User interface: Capturing user inputs & application events, displaying results & visualization, etc.\n",
    "- Scalability: Map-reduce, distributed processing, etc.\n",
    "- Deployment: Cloud hosting, containers & instances, microservices, etc.\n",
    "\n",
    "Move on to the final lesson of this course to find lots of sample practice questions for each topic!"
   ]
  },
  {
   "cell_type": "markdown",
   "metadata": {},
   "source": [
    "# P vs NP \n",
    "\n",
    "The P versus NP problem is a major unsolved problem in computer science. It asks whether every problem whose solution can be quickly verified can also be solved quickly.\n",
    "\n",
    "- **P (Polynomial Time):** Amount of time to solve a problem is a function of size. <br>\n",
    "Complexity O = f(N) (Polynomial Function and not exponential functions) example multiplication \n",
    "\n",
    "- **NP (Polynomial Time Checking):** Suduku or Travelling Salesman Problem or Protein Folding. Given a solution, we can easily check if the solution is correct. But is there a fast way to find the solution too\n",
    "\n",
    "P is a subset of NP. \n",
    "\n",
    "- **Neither P nor NP:** Chess is a great exapmle. Given a solution to the next move. It can be very difficult to check whether that solution is the best move or not. "
   ]
  },
  {
   "cell_type": "code",
   "execution_count": null,
   "metadata": {},
   "outputs": [],
   "source": []
  }
 ],
 "metadata": {
  "kernelspec": {
   "display_name": "Python 3",
   "language": "python",
   "name": "python3"
  },
  "language_info": {
   "codemirror_mode": {
    "name": "ipython",
    "version": 3
   },
   "file_extension": ".py",
   "mimetype": "text/x-python",
   "name": "python",
   "nbconvert_exporter": "python",
   "pygments_lexer": "ipython3",
   "version": "3.8.5"
  }
 },
 "nbformat": 4,
 "nbformat_minor": 4
}
