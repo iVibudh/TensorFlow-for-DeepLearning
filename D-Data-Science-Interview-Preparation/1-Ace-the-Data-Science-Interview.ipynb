{
 "cells": [
  {
   "cell_type": "markdown",
   "metadata": {},
   "source": [
    "## Topics\n",
    "\n",
    "1. Introduction\n",
    "2. Jobs in Data Science\n",
    "3. Interviews are conversations\n",
    "4. STAR Method"
   ]
  },
  {
   "cell_type": "markdown",
   "metadata": {},
   "source": [
    "## 1. Introduction\n",
    "\n",
    "#### In this course, you will:\n",
    "- Learn about the different roles in data science, including data scientist, machine learning engineer, and data analyst\n",
    "- Recognize that interviews are just conversations, and not tests\n",
    "- Learn the STAR method, which will help you demonstrate problem-solving skills in the interview\n",
    "- Analyze potential data analysis interview questions\n",
    "- Walkthrough potential machine learning interview questions\n",
    "- Practice behavioral questions and get advice from software engineers and product managers who messed up their interviews before they got them right\n",
    "- Once you finish the course, you will receive an exclusive to Udacity link to hold unlimited mock interviews on Pramp!\n",
    "\n",
    "https://www.youtube.com/watch?v=pg4HUMgKLxI"
   ]
  },
  {
   "cell_type": "markdown",
   "metadata": {},
   "source": [
    "## 2. Jobs in Data Science\n",
    "\n",
    "#### What is Data Science?\n",
    "\n",
    "Before you go into the interview, make sure you understand the full scope of your intended field. This will help you feel more confident and make it easier for you to discuss your interests and background in context of the job and company. You likely learned a lot about the industry and various jobs in data science when exploring jobs. Here's a quick guide:\n",
    "\n",
    "Data science combines several disciplines, including statistics, data analysis, machine learning, and computer science. This can be daunting if you’re new to data science, but keep in mind that different roles and companies will emphasize some skills over others, so you don’t have to be an expert at everything.\n",
    "\n",
    "*Pro tip: “Data scientist” is often used as a blanket title to describe jobs that are drastically different!*\n",
    "\n",
    "#### Reading Data Science Job Descriptions\n",
    "One important piece of advice for your job search is to read data science job descriptions carefully. This will enable you to apply to jobs you’re already qualified for, or develop specific data skill sets to match the roles you want to pursue. “Data scientist” is often used as a blanket title to describe jobs that are drastically different. Let’s looks at four kind of data science jobs.\n",
    "\n",
    "#### 4 Types of Data Science Jobs\n",
    "#### The Data Analyst\n",
    "There are some companies where being a data scientist is synonymous with being a data analyst. Your job might consist of tasks like pulling data out of SQL databases, becoming an Excel or Tableau master, and producing basic data visualizations and reporting dashboards. You may on occasion analyze the results of an A/B test or take the lead on your company’s Google Analytics account.\n",
    "\n",
    "*“A company like this is a great place for an aspiring data scientist to learn the ropes.”*\n",
    "\n",
    "Once you have a handle on your day-to-day responsibilities, a company like this can be a great environment to try new things and expand your skillset.\n",
    "\n",
    "#### The Data Engineer\n",
    "Some companies get to the point where they have a lot of traffic (and an increasingly large amount of data), and they start looking for someone to set up a lot of the data infrastructure that the company will need moving forward. They’re also looking for someone to provide analysis. You’ll see job postings listed under both “Data Scientist” and “Data Engineer” for this type of position. Since you’d be (one of) the first data hires, heavy statistics and machine learning expertise is less important than strong software engineering skills.\n",
    "\n",
    "*“Mentorship opportunities for junior data scientists can be less plentiful at a company looking to leverage rapidly increasing amounts of data.”*\n",
    "\n",
    "As a result, you’ll have great opportunities to shine and grow via trial by fire, but there will be less guidance and you may face a greater risk of flopping or stagnating.\n",
    "\n",
    "#### The Machine Learning Engineer\n",
    "There are a number of companies for whom their data (or their data analysis platform) is their product. In this case, the data analysis or machine learning going on can be pretty intense. This is probably the ideal situation for someone who has a formal mathematics, statistics, or physics background and is hoping to continue down a more academic path.\n",
    "\n",
    "*“Machine Learning Engineers often focus more on producing great data-driven products than they do answering operational questions for a company.”*\n",
    "\n",
    "Companies that fall into this group could be consumer-facing companies with massive amounts of data or companies that are offering a data-based service.\n",
    "\n",
    "#### The Data Science Generalist\n",
    "A lot of companies are looking for a generalist to join an established team of other data scientists. The company you’re interviewing for cares about data but probably isn’t a data company. It’s equally important that you can perform analysis, touch production code, visualize data, etc.\n",
    "\n",
    "*“Some of the most important ‘data generalist’ skills are familiarity with tools designed for ‘big data,’ and experience with messy, ‘real-life’ datasets.”*\n",
    "\n",
    "Generally, these companies are either looking for generalists or they’re looking to fill a specific niche where they feel their team is lacking, such as data visualization or machine learning."
   ]
  },
  {
   "cell_type": "markdown",
   "metadata": {},
   "source": [
    "## 3. Interviews are Conversations\n",
    "\n",
    "- Interviews are not tests or exams\n",
    "- Ask Questions\n",
    "    - demonstrate what you know \n",
    "    - demonstrate that you are a quick learner with a lot of other related knowledge\n",
    "    - in future, you could become an expert\n",
    "- Dont be afraid to change the topic\n",
    "    - Ofcourse, you need to answer the question\n",
    "    - But if the interviewer says something interestring, you can ask about it and dive deeper into it - show what you know\n",
    "- Be confident \n",
    "    - Be confident \n",
    "    - for every question that I didn't know how to answer, I approached it as a research for a problem I wanted to solve. \n",
    "- Being a problem solver is the most important characteristic an employee could have. It is definitely something you need to demonstrate in an interview.\n",
    "    \n",
    "\n",
    "https://www.youtube.com/watch?v=klqXp09Pen4"
   ]
  },
  {
   "cell_type": "markdown",
   "metadata": {},
   "source": [
    "## 4. STAR Method \n",
    "\n",
    "Here is one example of a behavioral question and using the STAR method to respond to it.\n",
    "\n",
    "### How do you handle conflict? How do you solve problems?\n",
    "Since well functioning teams need to handle conflict, you might get questions such as:\n",
    "\n",
    "*Describe an example when you had a disagreement with your coworker/manager. Why did it happen? How did you handle it?* \n",
    "\n",
    "Disagreements by themselves are not a problem. In fact, they are bound to happen, so it’s all about how you react. Again use the STAR method here, focusing on how you resolved the situation professionally and productively, choose a situation in which the disagreement was resolved well.\n",
    "\n",
    "**Situation:** \"One day before we were going to launch a new feature, a new vulnerability was announced in vendor software we use. Patching the problem adequately meant sliding the already delayed schedule. Another team member and I disagreed about which took precedence, the security patch or the feature release. The marketing department had a lot riding on this deadline.”\n",
    "\n",
    "**Task:** \"We needed to decide which goal to pursue and work together as a team.\"\n",
    "\n",
    "**Action:** \"We decided to look into the details of each problem together. Clearly the deadline was important, but our users’ data might be at risk if we didn’t patch our system. I was tasked to research the security threat more closely, and I realized it did not apply to our users because none of them used that browser which had the vulnerability. So we could just post a message on our website about the browser.\"\n",
    "\n",
    "**Result:** \"We were able to release our product feature on time even while taking the time to work together to consider an important issue not everyone agreed with at the time.\"\n",
    "\n",
    "Keep the STAR method in mind whenever you are asked to problem-solve or describe an experience during interviews."
   ]
  },
  {
   "cell_type": "code",
   "execution_count": null,
   "metadata": {},
   "outputs": [],
   "source": []
  }
 ],
 "metadata": {
  "kernelspec": {
   "display_name": "Python 3",
   "language": "python",
   "name": "python3"
  },
  "language_info": {
   "codemirror_mode": {
    "name": "ipython",
    "version": 3
   },
   "file_extension": ".py",
   "mimetype": "text/x-python",
   "name": "python",
   "nbconvert_exporter": "python",
   "pygments_lexer": "ipython3",
   "version": "3.8.5"
  }
 },
 "nbformat": 4,
 "nbformat_minor": 4
}
