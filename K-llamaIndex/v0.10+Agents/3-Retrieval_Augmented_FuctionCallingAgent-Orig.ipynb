{
  "nbformat": 4,
  "nbformat_minor": 0,
  "metadata": {
    "colab": {
      "provenance": []
    },
    "kernelspec": {
      "name": "python3",
      "display_name": "Python 3"
    },
    "language_info": {
      "name": "python"
    }
  },
  "cells": [
    {
      "cell_type": "markdown",
      "source": [
        "# Retrieval Augmented FuctionCallingAgent\n",
        "\n",
        "\n",
        "In this tutorial, we demonstrate how to utilize our `FunctionCallingAgent `implementation alongside a tool retriever.\n",
        "\n",
        "The goal is to construct an agent that leverages the function-calling API of LLMs (such as OpenAI, Anthropic, or Mistral) to manage and index an arbitrary number of tools.\n",
        "\n",
        "Our indexing and retrieval modules are designed to simplify the process, addressing the challenge of accommodating numerous functions within a prompt.\n",
        "\n",
        "`FunctionCallingAgent` uses LLM function calling capabilities to complete the task."
      ],
      "metadata": {
        "id": "7GWvKKFRdxvP"
      }
    },
    {
      "cell_type": "code",
      "source": [
        "!pip install llama-index\n",
        "!pip install llama-index-llms-anthropic\n",
        "!pip install llama-index-llms-mistralai"
      ],
      "metadata": {
        "id": "w1rb_v0OfIPS"
      },
      "execution_count": null,
      "outputs": []
    },
    {
      "cell_type": "markdown",
      "source": [
        "## Simple Calculator Tools"
      ],
      "metadata": {
        "id": "XH47QWjodBbK"
      }
    },
    {
      "cell_type": "code",
      "source": [
        "from llama_index.core.agent import ReActAgent\n",
        "from llama_index.llms.openai import OpenAI\n",
        "from llama_index.llms.anthropic import Anthropic\n",
        "from llama_index.llms.mistralai import MistralAI\n",
        "from llama_index.core.llms import ChatMessage\n",
        "from llama_index.core.tools import BaseTool, FunctionTool\n",
        "from llama_index.core.agent import FunctionCallingAgentWorker\n",
        "from llama_index.core.agent import AgentRunner"
      ],
      "metadata": {
        "id": "dd8MzkGuLhtq"
      },
      "execution_count": null,
      "outputs": []
    },
    {
      "cell_type": "markdown",
      "source": [
        "### Define Tools"
      ],
      "metadata": {
        "id": "TiPWsI6PdHRr"
      }
    },
    {
      "cell_type": "code",
      "source": [
        "def multiply(a: int, b: int) -> int:\n",
        "    \"\"\"Multiply two integers and returns the result integer\"\"\"\n",
        "    return a * b\n",
        "\n",
        "def add(a: int, b: int) -> int:\n",
        "    \"\"\"Add two integers with and returns the result integer\"\"\"\n",
        "    return a + b\n",
        "\n",
        "def subtract(a: int, b: int) -> int:\n",
        "    \"\"\"Subtract two integers with and returns the result integer\"\"\"\n",
        "    return a - b\n",
        "\n",
        "def useless(a: int, b: int) -> int:\n",
        "    \"\"\"Toy useless function.\"\"\"\n",
        "    pass"
      ],
      "metadata": {
        "id": "fQW2ccGlLrg7"
      },
      "execution_count": null,
      "outputs": []
    },
    {
      "cell_type": "code",
      "source": [
        "multiply_tool = FunctionTool.from_defaults(fn=multiply)\n",
        "add_tool = FunctionTool.from_defaults(fn=add)\n",
        "subtract_tool = FunctionTool.from_defaults(fn=subtract)\n",
        "\n",
        "useless_tools = [\n",
        "    FunctionTool.from_defaults(fn=useless, name=f\"useless_{str(idx)}\")\n",
        "    for idx in range(50)\n",
        "]"
      ],
      "metadata": {
        "id": "Bp4NnpPkLycF"
      },
      "execution_count": null,
      "outputs": []
    },
    {
      "cell_type": "code",
      "source": [
        "all_tools = [multiply_tool] + [add_tool] + [subtract_tool] + useless_tools"
      ],
      "metadata": {
        "id": "2aY0239ts2cY"
      },
      "execution_count": null,
      "outputs": []
    },
    {
      "cell_type": "markdown",
      "source": [
        "### Setup API Key"
      ],
      "metadata": {
        "id": "Q4Cnh9qKX8kN"
      }
    },
    {
      "cell_type": "code",
      "source": [
        "import os\n",
        "os.environ['OPENAI_API_KEY'] = 'YOUR OPENAI API KEY'"
      ],
      "metadata": {
        "id": "MZtnSRlBXFvC"
      },
      "execution_count": null,
      "outputs": []
    },
    {
      "cell_type": "markdown",
      "source": [
        "### Create ObjectIndex"
      ],
      "metadata": {
        "id": "9J8ar0Q8u1Qs"
      }
    },
    {
      "cell_type": "code",
      "source": [
        "# define an \"object\" index over these tools\n",
        "from llama_index.core import VectorStoreIndex\n",
        "from llama_index.core.objects import ObjectIndex\n",
        "\n",
        "obj_index = ObjectIndex.from_objects(\n",
        "    all_tools,\n",
        "    index_cls=VectorStoreIndex,\n",
        ")"
      ],
      "metadata": {
        "id": "GwYtvzLas7sb"
      },
      "execution_count": null,
      "outputs": []
    },
    {
      "cell_type": "markdown",
      "source": [
        "####  OpenAI GPT-4"
      ],
      "metadata": {
        "id": "hCk_5CGqL-zQ"
      }
    },
    {
      "cell_type": "code",
      "source": [
        "llm = OpenAI(model=\"gpt-4\")\n",
        "\n",
        "agent_worker = FunctionCallingAgentWorker.from_tools(\n",
        "    tool_retriever=obj_index.as_retriever(similarity_top_k=2),\n",
        "    llm=llm,\n",
        "    verbose=True,\n",
        "    allow_parallel_tool_calls=False,\n",
        ")\n",
        "agent = AgentRunner(agent_worker)"
      ],
      "metadata": {
        "id": "dpG5vDrOtQyd"
      },
      "execution_count": null,
      "outputs": []
    },
    {
      "cell_type": "code",
      "source": [
        "response = agent.chat(\"What's 500 multiplied by 10?\")"
      ],
      "metadata": {
        "colab": {
          "base_uri": "https://localhost:8080/"
        },
        "id": "u9JTUm8ltCGU",
        "outputId": "df4cd14d-7c17-4459-d0e7-fd7e3a0ed051"
      },
      "execution_count": null,
      "outputs": [
        {
          "output_type": "stream",
          "name": "stdout",
          "text": [
            "Added user message to memory: What's 500 multiplied by 10?\n",
            "=== Calling Function ===\n",
            "Calling function: multiply with args: {\"a\": 500, \"b\": 10}\n",
            "=== Function Output ===\n",
            "5000\n",
            "=== LLM Response ===\n",
            "500 multiplied by 10 is 5000.\n"
          ]
        }
      ]
    },
    {
      "cell_type": "code",
      "source": [
        "print(response)"
      ],
      "metadata": {
        "colab": {
          "base_uri": "https://localhost:8080/"
        },
        "id": "mrNyoUOhtFBb",
        "outputId": "c778b1a5-7eaa-451b-8b59-935db91c8e0b"
      },
      "execution_count": null,
      "outputs": [
        {
          "output_type": "stream",
          "name": "stdout",
          "text": [
            "assistant: 500 multiplied by 10 is 5000.\n"
          ]
        }
      ]
    },
    {
      "cell_type": "code",
      "source": [
        "response = agent.chat(\"What's 500 multiplied by 10 and then subtract 1000?\")"
      ],
      "metadata": {
        "id": "s3oXEzTVMca7",
        "colab": {
          "base_uri": "https://localhost:8080/"
        },
        "outputId": "ceec0569-5a5e-4fb2-9583-34a357b2936e"
      },
      "execution_count": null,
      "outputs": [
        {
          "output_type": "stream",
          "name": "stdout",
          "text": [
            "Added user message to memory: What's 500 multiplied by 10 and then subtract 1000?\n",
            "=== Calling Function ===\n",
            "Calling function: multiply with args: {\"a\": 500, \"b\": 10}\n",
            "=== Function Output ===\n",
            "5000\n",
            "=== Calling Function ===\n",
            "Calling function: subtract with args: {\"a\": 5000, \"b\": 1000}\n",
            "=== Function Output ===\n",
            "4000\n",
            "=== LLM Response ===\n",
            "500 multiplied by 10 and then subtracting 1000 gives 4000.\n"
          ]
        }
      ]
    },
    {
      "cell_type": "code",
      "source": [
        "print(response)"
      ],
      "metadata": {
        "colab": {
          "base_uri": "https://localhost:8080/"
        },
        "id": "IsWkUzx7u9bk",
        "outputId": "949fce42-f586-4538-c09e-e0483525fd6b"
      },
      "execution_count": null,
      "outputs": [
        {
          "output_type": "stream",
          "name": "stdout",
          "text": [
            "assistant: 500 multiplied by 10 and then subtracting 1000 gives 4000.\n"
          ]
        }
      ]
    },
    {
      "cell_type": "markdown",
      "source": [
        "#### Anthropic Sonnet"
      ],
      "metadata": {
        "id": "r8Acucy7MEku"
      }
    },
    {
      "cell_type": "code",
      "source": [
        "os.environ['ANTHROPIC_API_KEY'] = 'YOUR ANTHROPIC API KEY'"
      ],
      "metadata": {
        "id": "NK3rHgyMMjyn"
      },
      "execution_count": null,
      "outputs": []
    },
    {
      "cell_type": "code",
      "source": [
        "llm = Anthropic(model=\"claude-3-sonnet-20240229\")\n",
        "agent_worker = FunctionCallingAgentWorker.from_tools(\n",
        "    tool_retriever=obj_index.as_retriever(similarity_top_k=2),\n",
        "    llm=llm,\n",
        "    verbose=True,\n",
        "    allow_parallel_tool_calls=True,\n",
        ")\n",
        "agent = AgentRunner(agent_worker)"
      ],
      "metadata": {
        "id": "4iPdYMJ4MDLm"
      },
      "execution_count": null,
      "outputs": []
    },
    {
      "cell_type": "code",
      "source": [
        "response = agent.chat(\"What's 500 multiplied by 10?\")"
      ],
      "metadata": {
        "colab": {
          "base_uri": "https://localhost:8080/"
        },
        "id": "-NZjCVgQRWs4",
        "outputId": "feb907a3-d08e-4349-b0fe-1495cfe04f36"
      },
      "execution_count": null,
      "outputs": [
        {
          "output_type": "stream",
          "name": "stdout",
          "text": [
            "Added user message to memory: What's 500 multiplied by 10?\n",
            "=== Calling Function ===\n",
            "Calling function: multiply with args: {\"a\": 500, \"b\": 10}\n",
            "=== Function Output ===\n",
            "5000\n",
            "=== LLM Response ===\n",
            "So 500 multiplied by 10 is 5000.\n"
          ]
        }
      ]
    },
    {
      "cell_type": "code",
      "source": [
        "print(response)"
      ],
      "metadata": {
        "colab": {
          "base_uri": "https://localhost:8080/"
        },
        "id": "vA0xh4n3Radt",
        "outputId": "fc1fe918-7905-4868-f71e-e1727b4e2591"
      },
      "execution_count": null,
      "outputs": [
        {
          "output_type": "stream",
          "name": "stdout",
          "text": [
            "assistant: So 500 multiplied by 10 is 5000.\n"
          ]
        }
      ]
    },
    {
      "cell_type": "code",
      "source": [
        "response = agent.chat(\"What's 500 multiplied by 10 and then subtract 1000?\")"
      ],
      "metadata": {
        "colab": {
          "base_uri": "https://localhost:8080/"
        },
        "id": "vOmCX2bpRp71",
        "outputId": "2a797cc3-8404-4e93-beae-20daadb79df7"
      },
      "execution_count": null,
      "outputs": [
        {
          "output_type": "stream",
          "name": "stdout",
          "text": [
            "Added user message to memory: What's 500 multiplied by 10 and then subtract 1000?\n",
            "=== LLM Response ===\n",
            "Okay, let's break this down into steps:\n",
            "=== Calling Function ===\n",
            "Calling function: multiply with args: {\"a\": 500, \"b\": 10}\n",
            "=== Function Output ===\n",
            "5000\n",
            "=== LLM Response ===\n",
            "First, 500 multiplied by 10 is 5000.\n",
            "=== Calling Function ===\n",
            "Calling function: subtract with args: {\"a\": 5000, \"b\": 1000}\n",
            "=== Function Output ===\n",
            "4000\n",
            "=== LLM Response ===\n",
            "Then, subtracting 1000 from 5000 gives 4000.\n",
            "\n",
            "Therefore, the result of 500 multiplied by 10 and then subtracting 1000 is 4000.\n"
          ]
        }
      ]
    },
    {
      "cell_type": "code",
      "source": [
        "print(response)"
      ],
      "metadata": {
        "colab": {
          "base_uri": "https://localhost:8080/"
        },
        "id": "uCQdzp4BRrSF",
        "outputId": "55e88716-5336-4d6c-8a0c-3406f2564c92"
      },
      "execution_count": null,
      "outputs": [
        {
          "output_type": "stream",
          "name": "stdout",
          "text": [
            "assistant: Then, subtracting 1000 from 5000 gives 4000.\n",
            "\n",
            "Therefore, the result of 500 multiplied by 10 and then subtracting 1000 is 4000.\n"
          ]
        }
      ]
    },
    {
      "cell_type": "markdown",
      "source": [
        "#### MistralAI"
      ],
      "metadata": {
        "id": "9MuNIhZzMHcm"
      }
    },
    {
      "cell_type": "code",
      "source": [
        "os.environ['MISTRAL_API_KEY'] = 'YOUR MISTRALAI API KEY'"
      ],
      "metadata": {
        "id": "9A4Fgl5fRZiF"
      },
      "execution_count": null,
      "outputs": []
    },
    {
      "cell_type": "code",
      "source": [
        "llm = MistralAI(model=\"mistral-large-latest\")\n",
        "agent_worker = FunctionCallingAgentWorker.from_tools(\n",
        "    tool_retriever=obj_index.as_retriever(similarity_top_k=2),\n",
        "    llm=llm,\n",
        "    verbose=True,\n",
        "    allow_parallel_tool_calls=False,\n",
        ")\n",
        "agent = AgentRunner(agent_worker)"
      ],
      "metadata": {
        "id": "TMOq_oraMDfc"
      },
      "execution_count": null,
      "outputs": []
    },
    {
      "cell_type": "code",
      "source": [
        "response = agent.chat(\"What's 500 multiplied by 10?\")"
      ],
      "metadata": {
        "colab": {
          "base_uri": "https://localhost:8080/"
        },
        "id": "IPU4KUHMVu1Z",
        "outputId": "43512606-a57e-4ce0-9d39-5408c18141f3"
      },
      "execution_count": null,
      "outputs": [
        {
          "output_type": "stream",
          "name": "stdout",
          "text": [
            "Added user message to memory: What's 500 multiplied by 10?\n",
            "=== Calling Function ===\n",
            "Calling function: multiply with args: {\"a\": 500, \"b\": 10}\n",
            "=== Function Output ===\n",
            "5000\n",
            "=== LLM Response ===\n",
            "The result of multiplying 500 by 10 is 5000.\n"
          ]
        }
      ]
    },
    {
      "cell_type": "code",
      "source": [
        "print(response)"
      ],
      "metadata": {
        "colab": {
          "base_uri": "https://localhost:8080/"
        },
        "id": "4Oubu48XVw81",
        "outputId": "6fc11448-4b66-4ec6-db0c-07f17efd3f33"
      },
      "execution_count": null,
      "outputs": [
        {
          "output_type": "stream",
          "name": "stdout",
          "text": [
            "assistant: The result of multiplying 500 by 10 is 5000.\n"
          ]
        }
      ]
    },
    {
      "cell_type": "code",
      "source": [
        "response = agent.chat(\"What's 500 multiplied by 10 and then subtract 1000?\")"
      ],
      "metadata": {
        "colab": {
          "base_uri": "https://localhost:8080/"
        },
        "id": "5u_sLM7gVx91",
        "outputId": "ae56659c-a759-43bd-fbe0-8e1e91f19070"
      },
      "execution_count": null,
      "outputs": [
        {
          "output_type": "stream",
          "name": "stdout",
          "text": [
            "Added user message to memory: What's 500 multiplied by 10 and then subtract 1000?\n",
            "=== Calling Function ===\n",
            "Calling function: multiply with args: {\"a\": 500, \"b\": 10}\n",
            "=== Function Output ===\n",
            "5000\n",
            "=== Calling Function ===\n",
            "Calling function: subtract with args: {\"a\": 5000, \"b\": 1000}\n",
            "=== Function Output ===\n",
            "4000\n",
            "=== LLM Response ===\n",
            "The result of multiplying 500 by 10 and then subtracting 1000 is 4000.\n"
          ]
        }
      ]
    },
    {
      "cell_type": "code",
      "source": [
        "print(response)"
      ],
      "metadata": {
        "colab": {
          "base_uri": "https://localhost:8080/"
        },
        "id": "4niNrj5OV0es",
        "outputId": "725af6c1-e5ae-449b-8880-6c5d60f27d2c"
      },
      "execution_count": null,
      "outputs": [
        {
          "output_type": "stream",
          "name": "stdout",
          "text": [
            "assistant: The result of multiplying 500 by 10 and then subtracting 1000 is 4000.\n"
          ]
        }
      ]
    },
    {
      "cell_type": "markdown",
      "source": [
        "## RAG QueryEngine Tools"
      ],
      "metadata": {
        "id": "QMlBJu2vdUU2"
      }
    },
    {
      "cell_type": "code",
      "source": [
        "from llama_index.core import (\n",
        "    SimpleDirectoryReader,\n",
        "    VectorStoreIndex,\n",
        "    StorageContext,\n",
        "    load_index_from_storage,\n",
        ")\n",
        "\n",
        "from llama_index.core.tools import QueryEngineTool, ToolMetadata"
      ],
      "metadata": {
        "id": "xEY6G0JtXuMo"
      },
      "execution_count": null,
      "outputs": []
    },
    {
      "cell_type": "code",
      "source": [
        "try:\n",
        "    storage_context = StorageContext.from_defaults(\n",
        "        persist_dir=\"./storage/lyft\"\n",
        "    )\n",
        "    lyft_index = load_index_from_storage(storage_context)\n",
        "\n",
        "    storage_context = StorageContext.from_defaults(\n",
        "        persist_dir=\"./storage/uber\"\n",
        "    )\n",
        "    uber_index = load_index_from_storage(storage_context)\n",
        "\n",
        "    index_loaded = True\n",
        "except:\n",
        "    index_loaded = False"
      ],
      "metadata": {
        "id": "j7x3grUzbL5w"
      },
      "execution_count": null,
      "outputs": []
    },
    {
      "cell_type": "markdown",
      "source": [
        "### Download Data"
      ],
      "metadata": {
        "id": "yUnO5ZX8dYJA"
      }
    },
    {
      "cell_type": "code",
      "source": [
        "!mkdir -p 'data/10k/'\n",
        "!wget 'https://raw.githubusercontent.com/run-llama/llama_index/main/docs/docs/examples/data/10k/uber_2021.pdf' -O 'data/10k/uber_2021.pdf'\n",
        "!wget 'https://raw.githubusercontent.com/run-llama/llama_index/main/docs/docs/examples/data/10k/lyft_2021.pdf' -O 'data/10k/lyft_2021.pdf'"
      ],
      "metadata": {
        "colab": {
          "base_uri": "https://localhost:8080/"
        },
        "id": "LA0rmS5IbOhv",
        "outputId": "1ac43f07-6634-4037-f143-70fad59c165c"
      },
      "execution_count": null,
      "outputs": [
        {
          "output_type": "stream",
          "name": "stdout",
          "text": [
            "--2024-04-12 22:32:15--  https://raw.githubusercontent.com/run-llama/llama_index/main/docs/docs/examples/data/10k/uber_2021.pdf\n",
            "Resolving raw.githubusercontent.com (raw.githubusercontent.com)... 185.199.108.133, 185.199.109.133, 185.199.110.133, ...\n",
            "Connecting to raw.githubusercontent.com (raw.githubusercontent.com)|185.199.108.133|:443... connected.\n",
            "HTTP request sent, awaiting response... 200 OK\n",
            "Length: 1880483 (1.8M) [application/octet-stream]\n",
            "Saving to: ‘data/10k/uber_2021.pdf’\n",
            "\n",
            "\rdata/10k/uber_2021.   0%[                    ]       0  --.-KB/s               \rdata/10k/uber_2021. 100%[===================>]   1.79M  --.-KB/s    in 0.04s   \n",
            "\n",
            "2024-04-12 22:32:16 (40.5 MB/s) - ‘data/10k/uber_2021.pdf’ saved [1880483/1880483]\n",
            "\n",
            "--2024-04-12 22:32:16--  https://raw.githubusercontent.com/run-llama/llama_index/main/docs/docs/examples/data/10k/lyft_2021.pdf\n",
            "Resolving raw.githubusercontent.com (raw.githubusercontent.com)... 185.199.108.133, 185.199.109.133, 185.199.110.133, ...\n",
            "Connecting to raw.githubusercontent.com (raw.githubusercontent.com)|185.199.108.133|:443... connected.\n",
            "HTTP request sent, awaiting response... 200 OK\n",
            "Length: 1440303 (1.4M) [application/octet-stream]\n",
            "Saving to: ‘data/10k/lyft_2021.pdf’\n",
            "\n",
            "data/10k/lyft_2021. 100%[===================>]   1.37M  --.-KB/s    in 0.04s   \n",
            "\n",
            "2024-04-12 22:32:16 (38.3 MB/s) - ‘data/10k/lyft_2021.pdf’ saved [1440303/1440303]\n",
            "\n"
          ]
        }
      ]
    },
    {
      "cell_type": "markdown",
      "source": [
        "### Load Data And Create Index\n",
        "\n",
        "We will by default use OpenAI Embeddings for building index."
      ],
      "metadata": {
        "id": "DlhxgDAhdanb"
      }
    },
    {
      "cell_type": "code",
      "source": [
        "if not index_loaded:\n",
        "    # load data\n",
        "    lyft_docs = SimpleDirectoryReader(\n",
        "        input_files=[\"./data/10k/lyft_2021.pdf\"]\n",
        "    ).load_data()\n",
        "    uber_docs = SimpleDirectoryReader(\n",
        "        input_files=[\"./data/10k/uber_2021.pdf\"]\n",
        "    ).load_data()\n",
        "\n",
        "    # build index\n",
        "    lyft_index = VectorStoreIndex.from_documents(lyft_docs)\n",
        "    uber_index = VectorStoreIndex.from_documents(uber_docs)\n",
        "\n",
        "    # persist index\n",
        "    lyft_index.storage_context.persist(persist_dir=\"./storage/lyft\")\n",
        "    uber_index.storage_context.persist(persist_dir=\"./storage/uber\")"
      ],
      "metadata": {
        "id": "h3kycd7CbRDe"
      },
      "execution_count": null,
      "outputs": []
    },
    {
      "cell_type": "markdown",
      "source": [
        "### Create QueryEngines"
      ],
      "metadata": {
        "id": "YsNt_zZhdcld"
      }
    },
    {
      "cell_type": "code",
      "source": [
        "lyft_engine = lyft_index.as_query_engine(similarity_top_k=3)\n",
        "uber_engine = uber_index.as_query_engine(similarity_top_k=3)"
      ],
      "metadata": {
        "id": "hibIsja5bUlb"
      },
      "execution_count": null,
      "outputs": []
    },
    {
      "cell_type": "markdown",
      "source": [
        "### Define Tools"
      ],
      "metadata": {
        "id": "qZsjutZYde9R"
      }
    },
    {
      "cell_type": "code",
      "source": [
        "query_engine_tools = [\n",
        "    QueryEngineTool(\n",
        "        query_engine=lyft_engine,\n",
        "        metadata=ToolMetadata(\n",
        "            name=\"lyft_10k\",\n",
        "            description=(\n",
        "                \"Provides information about Lyft financials for year 2021. \"\n",
        "                \"Use a detailed plain text question as input to the tool.\"\n",
        "            ),\n",
        "        ),\n",
        "    ),\n",
        "    QueryEngineTool(\n",
        "        query_engine=uber_engine,\n",
        "        metadata=ToolMetadata(\n",
        "            name=\"uber_10k\",\n",
        "            description=(\n",
        "                \"Provides information about Uber financials for year 2021. \"\n",
        "                \"Use a detailed plain text question as input to the tool.\"\n",
        "            ),\n",
        "        ),\n",
        "    ),\n",
        "]"
      ],
      "metadata": {
        "id": "jidXn8xCbXHF"
      },
      "execution_count": null,
      "outputs": []
    },
    {
      "cell_type": "code",
      "source": [
        "obj_index = ObjectIndex.from_objects(\n",
        "    query_engine_tools,\n",
        "    index_cls=VectorStoreIndex,\n",
        ")"
      ],
      "metadata": {
        "id": "zASbANOhv6AN"
      },
      "execution_count": null,
      "outputs": []
    },
    {
      "cell_type": "markdown",
      "source": [
        "#### OpenAI GPT-4"
      ],
      "metadata": {
        "id": "Ju5JLvh9dhXb"
      }
    },
    {
      "cell_type": "code",
      "source": [
        "llm = OpenAI(model=\"gpt-4\")\n",
        "agent_worker = FunctionCallingAgentWorker.from_tools(\n",
        "    tool_retriever=obj_index.as_retriever(similarity_top_k=1),\n",
        "    llm=llm,\n",
        "    verbose=True,\n",
        "    allow_parallel_tool_calls=True,\n",
        ")\n",
        "agent = AgentRunner(agent_worker)"
      ],
      "metadata": {
        "id": "KML03j15bbKl"
      },
      "execution_count": null,
      "outputs": []
    },
    {
      "cell_type": "code",
      "source": [
        "response = agent.chat(\n",
        "    \"What is the revenue of Uber in 2021?\"\n",
        ")"
      ],
      "metadata": {
        "colab": {
          "base_uri": "https://localhost:8080/"
        },
        "id": "vVtJB-4wbq-E",
        "outputId": "1f412929-0036-4c7b-bd1e-87f8473b2ace"
      },
      "execution_count": null,
      "outputs": [
        {
          "output_type": "stream",
          "name": "stdout",
          "text": [
            "Added user message to memory: What is the revenue of Uber in 2021?\n",
            "=== Calling Function ===\n",
            "Calling function: uber_10k with args: {\"input\": \"What is the revenue of Uber in 2021?\"}\n",
            "=== Function Output ===\n",
            "$17,455\n",
            "=== LLM Response ===\n",
            "The revenue of Uber in 2021 was $17,455 million.\n"
          ]
        }
      ]
    },
    {
      "cell_type": "code",
      "source": [
        "print(str(response))"
      ],
      "metadata": {
        "colab": {
          "base_uri": "https://localhost:8080/"
        },
        "id": "PypQerhAbreq",
        "outputId": "6b70eb98-42df-422a-e702-17b03d4c084c"
      },
      "execution_count": null,
      "outputs": [
        {
          "output_type": "stream",
          "name": "stdout",
          "text": [
            "assistant: The revenue of Uber in 2021 was $17,455 million.\n"
          ]
        }
      ]
    },
    {
      "cell_type": "code",
      "source": [
        "response = agent.chat(\n",
        "    \"What is the revenue of Lyft in 2021?\"\n",
        ")"
      ],
      "metadata": {
        "colab": {
          "base_uri": "https://localhost:8080/"
        },
        "id": "vSCyB3J1wbnD",
        "outputId": "bb75bf33-23d2-4313-f444-b5142c3c7734"
      },
      "execution_count": null,
      "outputs": [
        {
          "output_type": "stream",
          "name": "stdout",
          "text": [
            "Added user message to memory: What is the revenue of Lyft in 2021?\n",
            "=== Calling Function ===\n",
            "Calling function: lyft_10k with args: {\"input\": \"What is the revenue of Lyft in 2021?\"}\n",
            "=== Function Output ===\n",
            "$3,208,323\n",
            "=== LLM Response ===\n",
            "The revenue of Lyft in 2021 was $3,208,323,000.\n"
          ]
        }
      ]
    },
    {
      "cell_type": "code",
      "source": [
        "print(str(response))"
      ],
      "metadata": {
        "colab": {
          "base_uri": "https://localhost:8080/"
        },
        "id": "vW4ukYc1we8U",
        "outputId": "d00df400-9126-46f8-e12d-9e97385ae732"
      },
      "execution_count": null,
      "outputs": [
        {
          "output_type": "stream",
          "name": "stdout",
          "text": [
            "assistant: The revenue of Lyft in 2021 was $3,208,323,000.\n"
          ]
        }
      ]
    },
    {
      "cell_type": "markdown",
      "source": [
        "#### Anthropic Sonnet"
      ],
      "metadata": {
        "id": "IFf1kpWudklG"
      }
    },
    {
      "cell_type": "code",
      "source": [
        "llm = Anthropic(model=\"claude-3-sonnet-20240229\")\n",
        "agent_worker = FunctionCallingAgentWorker.from_tools(\n",
        "    tool_retriever=obj_index.as_retriever(similarity_top_k=1),\n",
        "    llm=llm,\n",
        "    verbose=True,\n",
        "    allow_parallel_tool_calls=True,\n",
        ")\n",
        "agent = AgentRunner(agent_worker)"
      ],
      "metadata": {
        "id": "3kVH4Sx5bw2q"
      },
      "execution_count": null,
      "outputs": []
    },
    {
      "cell_type": "code",
      "source": [
        "response = agent.chat(\n",
        "    \"What is the revenue of Uber in 2021?\"\n",
        ")"
      ],
      "metadata": {
        "colab": {
          "base_uri": "https://localhost:8080/"
        },
        "id": "aSOfSijMb2t1",
        "outputId": "a7b4e447-4d0e-46ac-e838-73fd5de9599c"
      },
      "execution_count": null,
      "outputs": [
        {
          "output_type": "stream",
          "name": "stdout",
          "text": [
            "Added user message to memory: What is the revenue of Uber in 2021?\n",
            "=== Calling Function ===\n",
            "Calling function: uber_10k with args: {\"input\": \"What was Uber's revenue in 2021?\"}\n",
            "=== Function Output ===\n",
            "Uber's revenue in 2021 was $17,455 million.\n",
            "=== LLM Response ===\n",
            "So Uber's revenue in 2021 was $17,455 million.\n"
          ]
        }
      ]
    },
    {
      "cell_type": "code",
      "source": [
        "print(response)"
      ],
      "metadata": {
        "colab": {
          "base_uri": "https://localhost:8080/"
        },
        "id": "1wyJFAQCb3zZ",
        "outputId": "a893d687-e075-41ab-b788-1ff0352fc005"
      },
      "execution_count": null,
      "outputs": [
        {
          "output_type": "stream",
          "name": "stdout",
          "text": [
            "assistant: So Uber's revenue in 2021 was $17,455 million.\n"
          ]
        }
      ]
    },
    {
      "cell_type": "code",
      "source": [
        "response = agent.chat(\n",
        "    \"What is the revenue of Lyft in 2021?\"\n",
        ")"
      ],
      "metadata": {
        "colab": {
          "base_uri": "https://localhost:8080/"
        },
        "id": "Xld82HwQwmqs",
        "outputId": "aa52fdaf-9583-45d4-f42a-be31931f5930"
      },
      "execution_count": null,
      "outputs": [
        {
          "output_type": "stream",
          "name": "stdout",
          "text": [
            "Added user message to memory: What is the revenue of Lyft in 2021?\n",
            "=== LLM Response ===\n",
            "Okay, let me check Lyft's 2021 revenue using the provided tool:\n",
            "=== Calling Function ===\n",
            "Calling function: lyft_10k with args: {\"input\": \"What was Lyft's revenue in 2021?\"}\n",
            "=== Function Output ===\n",
            "Lyft's revenue in 2021 was $3,208,323.\n",
            "=== LLM Response ===\n",
            "So according to Lyft's 10-K filing, their revenue in 2021 was $3,208,323.\n"
          ]
        }
      ]
    },
    {
      "cell_type": "code",
      "source": [
        "print(response)"
      ],
      "metadata": {
        "colab": {
          "base_uri": "https://localhost:8080/"
        },
        "id": "ZPoozUldwqAB",
        "outputId": "f69c1aec-af16-48c2-93b3-3b0f327d6909"
      },
      "execution_count": null,
      "outputs": [
        {
          "output_type": "stream",
          "name": "stdout",
          "text": [
            "assistant: So according to Lyft's 10-K filing, their revenue in 2021 was $3,208,323.\n"
          ]
        }
      ]
    },
    {
      "cell_type": "markdown",
      "source": [
        "### MistralAI"
      ],
      "metadata": {
        "id": "AET5ffzlr88w"
      }
    },
    {
      "cell_type": "code",
      "source": [
        "llm = MistralAI(model=\"mistral-large-latest\")\n",
        "agent_worker = FunctionCallingAgentWorker.from_tools(\n",
        "    tool_retriever=obj_index.as_retriever(similarity_top_k=1),\n",
        "    llm=llm,\n",
        "    verbose=True,\n",
        "    allow_parallel_tool_calls=False,\n",
        ")\n",
        "agent = AgentRunner(agent_worker)"
      ],
      "metadata": {
        "id": "hJ1Ad-LscFHS"
      },
      "execution_count": null,
      "outputs": []
    },
    {
      "cell_type": "code",
      "source": [
        "response = agent.chat(\n",
        "    \"What is the revenue of Uber in 2021?\"\n",
        ")"
      ],
      "metadata": {
        "colab": {
          "base_uri": "https://localhost:8080/"
        },
        "id": "RtOEyVCkr2iq",
        "outputId": "2c5d1338-f772-43c8-fa1a-1bc031dd1936"
      },
      "execution_count": null,
      "outputs": [
        {
          "output_type": "stream",
          "name": "stdout",
          "text": [
            "Added user message to memory: What is the revenue of Uber in 2021?\n",
            "=== Calling Function ===\n",
            "Calling function: uber_10k with args: {\"input\": \"What is the revenue of Uber in 2021?\"}\n",
            "=== Function Output ===\n",
            "The revenue of Uber in 2021 was $17,455 million.\n",
            "=== LLM Response ===\n",
            "The revenue of Uber in 2021 was $17,455 million.\n"
          ]
        }
      ]
    },
    {
      "cell_type": "code",
      "source": [
        "print(response)"
      ],
      "metadata": {
        "colab": {
          "base_uri": "https://localhost:8080/"
        },
        "id": "igwWqCeOr303",
        "outputId": "0d575ce0-3108-429d-f6d9-568072feaee2"
      },
      "execution_count": null,
      "outputs": [
        {
          "output_type": "stream",
          "name": "stdout",
          "text": [
            "assistant: The revenue of Uber in 2021 was $17,455 million.\n"
          ]
        }
      ]
    },
    {
      "cell_type": "code",
      "source": [
        "response = agent.chat(\n",
        "    \"What is the revenue of Lyft in 2021?\"\n",
        ")"
      ],
      "metadata": {
        "id": "0FXUKH34r69R",
        "colab": {
          "base_uri": "https://localhost:8080/"
        },
        "outputId": "c836d0f6-d473-46ef-ff94-477f3482a583"
      },
      "execution_count": null,
      "outputs": [
        {
          "output_type": "stream",
          "name": "stdout",
          "text": [
            "Added user message to memory: What is the revenue of Lyft in 2021?\n",
            "=== Calling Function ===\n",
            "Calling function: lyft_10k with args: {\"input\": \"What is the revenue of Lyft in 2021?\"}\n",
            "=== Function Output ===\n",
            "The revenue of Lyft in 2021 was $3,208,323,000.\n",
            "=== LLM Response ===\n",
            "The revenue of Lyft in 2021 was $3,208,323,000.\n"
          ]
        }
      ]
    },
    {
      "cell_type": "code",
      "source": [
        "print(response)"
      ],
      "metadata": {
        "colab": {
          "base_uri": "https://localhost:8080/"
        },
        "id": "M969QUxawyNF",
        "outputId": "dd95b01c-78a6-407d-f9f3-8a0374a74893"
      },
      "execution_count": null,
      "outputs": [
        {
          "output_type": "stream",
          "name": "stdout",
          "text": [
            "assistant: The revenue of Lyft in 2021 was $3,208,323,000.\n"
          ]
        }
      ]
    },
    {
      "cell_type": "code",
      "source": [],
      "metadata": {
        "id": "XhSfavCswzrh"
      },
      "execution_count": null,
      "outputs": []
    }
  ]
}