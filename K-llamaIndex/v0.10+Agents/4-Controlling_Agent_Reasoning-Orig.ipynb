{
  "nbformat": 4,
  "nbformat_minor": 0,
  "metadata": {
    "colab": {
      "provenance": []
    },
    "kernelspec": {
      "name": "python3",
      "display_name": "Python 3"
    },
    "language_info": {
      "name": "python"
    }
  },
  "cells": [
    {
      "cell_type": "markdown",
      "source": [
        "# Controlling Agent Reasoning Loop with `return_direct` in Tools\n",
        "\n",
        "\n",
        "In this tutorial, we'll explore how to control the reasoning loop of an agent using the `return_direct` option available in tools.\n",
        "\n",
        "This feature plays a crucial role in streamlining the agent's decision-making process, particularly when immediate output from a single tool is sufficient for the task at hand rather than sending the output of tool to LLM for final response.\n",
        "\n",
        "Setting `return_direct` to True impacts the agent's reasoning loop. When activated and the corresponding tool is called independently, the loop concludes, and the output from the tool is directly returned.\n",
        "\n",
        "By the end of this tutorial, you'll have a comprehensive understanding of how to leverage the `return_direct` option to enhance the efficiency of an agent's reasoning loop."
      ],
      "metadata": {
        "id": "7GWvKKFRdxvP"
      }
    },
    {
      "cell_type": "markdown",
      "source": [
        "### Installation"
      ],
      "metadata": {
        "id": "L8TKwkFYft3y"
      }
    },
    {
      "cell_type": "code",
      "source": [
        "!pip install llama-index\n",
        "!pip install llama-index-llms-openai"
      ],
      "metadata": {
        "id": "w1rb_v0OfIPS"
      },
      "execution_count": null,
      "outputs": []
    },
    {
      "cell_type": "code",
      "source": [
        "from typing import Optional\n",
        "\n",
        "from llama_index.llms.openai import OpenAI\n",
        "from llama_index.core.llms import ChatMessage\n",
        "from llama_index.core.tools import BaseTool, FunctionTool\n",
        "from llama_index.core.agent import FunctionCallingAgentWorker\n",
        "from llama_index.core.agent import AgentRunner\n",
        "from llama_index.core.bridge.pydantic import BaseModel"
      ],
      "metadata": {
        "id": "dd8MzkGuLhtq"
      },
      "execution_count": null,
      "outputs": []
    },
    {
      "cell_type": "markdown",
      "source": [
        "### Setup LLM"
      ],
      "metadata": {
        "id": "VN6rmRGzfvxp"
      }
    },
    {
      "cell_type": "code",
      "source": [
        "import os\n",
        "os.environ['OPENAI_API_KEY'] = 'YOUR OPENAI API KEY'\n",
        "\n",
        "llm = OpenAI(model='gpt-4')"
      ],
      "metadata": {
        "id": "ZsWxupGkLd39"
      },
      "execution_count": null,
      "outputs": []
    },
    {
      "cell_type": "markdown",
      "source": [
        "Here, we are defining a system to manage restaurant bookings using various functions and integrating them into a tool-based architecture.\n",
        "\n",
        "The `Booking` class is a Pydantic model used to track and represent the state of a booking. It includes optional fields like name, email, phone, date, and time, allowing for flexible data entry.\n",
        "\n",
        "`get_booking_state(user_id: str):` Retrieves the current state of a booking using the booking ID. It outputs the booking's details or a message if the ID is not found.\n",
        "\n",
        "`update_booking(user_id: str, property: str, value: str):` Updates a specific property of a booking. It's designed to modify only the provided details.\n",
        "\n",
        "`create_booking(user_id: str):` Initializes a new booking and stores it under a unique ID, prompting the user to provide further details.\n",
        "\n",
        "`confirm_booking(user_id: str):` Finalizes the booking after ensuring all necessary information is provided. If any detail is missing, it raises an error."
      ],
      "metadata": {
        "id": "2fyiLNhCdhSz"
      }
    },
    {
      "cell_type": "code",
      "source": [
        "# we will store booking under random IDs\n",
        "bookings = {}\n",
        "\n",
        "class Booking(BaseModel):\n",
        "    name: Optional[str] = None\n",
        "    email: Optional[str] = None\n",
        "    phone: Optional[str] = None\n",
        "    date: Optional[str] = None\n",
        "    time: Optional[str] = None\n",
        "\n",
        "\n",
        "def get_booking_state(user_id: str) -> str:\n",
        "    \"\"\"Get the current state of a booking for a given booking ID.\"\"\"\n",
        "    try:\n",
        "        return str(bookings[user_id].dict())\n",
        "    except:\n",
        "        return f\"Booking ID {user_id} not found\"\n",
        "\n",
        "\n",
        "def update_booking(user_id: str, property: str, value: str) -> str:\n",
        "    \"\"\"Update a property of a booking for a given booking ID. Only enter details that are explicitly provided.\"\"\"\n",
        "    booking = bookings[user_id]\n",
        "    setattr(booking, property, value)\n",
        "    return f\"Booking ID {user_id} updated with {property} = {value}\"\n",
        "\n",
        "\n",
        "def create_booking(user_id: str) -> str:\n",
        "    \"\"\"Create a new booking and return the booking ID.\"\"\"\n",
        "    bookings[user_id] = Booking()\n",
        "    return \"Booking created, but not yet confirmed. Please provide your name, email, phone, date, and time.\"\n",
        "\n",
        "\n",
        "def confirm_booking(user_id: str) -> str:\n",
        "    \"\"\"Confirm a booking for a given booking ID.\"\"\"\n",
        "    booking = bookings[user_id]\n",
        "\n",
        "    if booking.name is None:\n",
        "        raise ValueError(\"Please provide your name.\")\n",
        "\n",
        "    if booking.email is None:\n",
        "        raise ValueError(\"Please provide your email.\")\n",
        "\n",
        "    if booking.phone is None:\n",
        "        raise ValueError(\"Please provide your phone number.\")\n",
        "\n",
        "    if booking.date is None:\n",
        "        raise ValueError(\"Please provide the date of your booking.\")\n",
        "\n",
        "    if booking.time is None:\n",
        "        raise ValueError(\"Please provide the time of your booking.\")\n",
        "\n",
        "    return f\"Booking ID {user_id} confirmed!\""
      ],
      "metadata": {
        "id": "YAX6Hk2KLR4r"
      },
      "execution_count": null,
      "outputs": []
    },
    {
      "cell_type": "markdown",
      "source": [
        "We will demonstrate two experiments:\n",
        "\n",
        "**Experiment-1:** `return_direct` is not enabled in `get_booking_state_tool`\n",
        "\n",
        "**Experiment-2:** `return_direct` is enabled in `get_booking_state_tool`\n",
        "\n",
        "Once the entire booking process is complete and confirmed, we will review the booking details to understand how the final response differs when `return_direct` is enabled versus when it is disabled.\n",
        "\n",
        "In both experiments, we will enable `return_direct` for `create_booking_tool` and `confirm_booking_tool` as we don't need the output to be sent to LLM for the final response."
      ],
      "metadata": {
        "id": "yK-gnfyueAR_"
      }
    },
    {
      "cell_type": "markdown",
      "source": [
        "### Experiment-1:"
      ],
      "metadata": {
        "id": "-MaNgeNJe_gT"
      }
    },
    {
      "cell_type": "markdown",
      "source": [
        "#### Create Tools"
      ],
      "metadata": {
        "id": "TA6cotp2fDAC"
      }
    },
    {
      "cell_type": "code",
      "source": [
        "get_booking_state_tool = FunctionTool.from_defaults(fn=get_booking_state)\n",
        "update_booking_tool = FunctionTool.from_defaults(fn=update_booking)\n",
        "create_booking_tool = FunctionTool.from_defaults(fn=create_booking,\n",
        "                                                 return_direct=True)\n",
        "confirm_booking_tool = FunctionTool.from_defaults(fn=confirm_booking,\n",
        "                                                  return_direct=True)"
      ],
      "metadata": {
        "id": "xTSPV9M7ZBJN"
      },
      "execution_count": null,
      "outputs": []
    },
    {
      "cell_type": "code",
      "source": [
        "user = \"user123\"\n",
        "prefix_messages = [\n",
        "    ChatMessage(\n",
        "        role=\"system\",\n",
        "        content=(\n",
        "            f\"You are now connected to the booking system and helping {user} with making a booking. \"\n",
        "            \"Only enter details that the user has explicitly provided. \"\n",
        "            \"Do not make up any details.\"\n",
        "        ),\n",
        "    )\n",
        "]"
      ],
      "metadata": {
        "id": "2RunKZhOZDyI"
      },
      "execution_count": null,
      "outputs": []
    },
    {
      "cell_type": "markdown",
      "source": [
        "#### Create Agent"
      ],
      "metadata": {
        "id": "dljg64zzfFER"
      }
    },
    {
      "cell_type": "code",
      "source": [
        "worker = FunctionCallingAgentWorker(\n",
        "    tools=[\n",
        "        get_booking_state_tool,\n",
        "        update_booking_tool,\n",
        "        create_booking_tool,\n",
        "        confirm_booking_tool,\n",
        "    ],\n",
        "    llm=llm,\n",
        "    prefix_messages=prefix_messages,\n",
        "    max_function_calls=10,\n",
        "    allow_parallel_tool_calls=False,\n",
        "    verbose=True,\n",
        ")\n",
        "\n",
        "agent = AgentRunner(worker)"
      ],
      "metadata": {
        "id": "kPej4q4fLW0X"
      },
      "execution_count": null,
      "outputs": []
    },
    {
      "cell_type": "markdown",
      "source": [
        "#### Let's create booking"
      ],
      "metadata": {
        "id": "YJGN2l1DfMMQ"
      }
    },
    {
      "cell_type": "code",
      "source": [
        "response = agent.chat(\"Hello! I would like to make a booking.\")"
      ],
      "metadata": {
        "colab": {
          "base_uri": "https://localhost:8080/"
        },
        "id": "vXWBwCuMLZWW",
        "outputId": "ad234cf7-b2f6-4fac-b065-6409115ba466"
      },
      "execution_count": null,
      "outputs": [
        {
          "output_type": "stream",
          "name": "stdout",
          "text": [
            "Added user message to memory: Hello! I would like to make a booking.\n",
            "=== Calling Function ===\n",
            "Calling function: create_booking with args: {\"user_id\": \"user123\"}\n",
            "=== Function Output ===\n",
            "Booking created, but not yet confirmed. Please provide your name, email, phone, date, and time.\n"
          ]
        }
      ]
    },
    {
      "cell_type": "code",
      "source": [
        "response = agent.chat(\"Sure! My name is Ravi, and my email is ravi@gmail.com\")"
      ],
      "metadata": {
        "colab": {
          "base_uri": "https://localhost:8080/"
        },
        "id": "RggA5SdhLkT0",
        "outputId": "fe6528d6-35ac-4b60-9982-34530b6b88ad"
      },
      "execution_count": null,
      "outputs": [
        {
          "output_type": "stream",
          "name": "stdout",
          "text": [
            "Added user message to memory: Sure! My name is Ravi, and my email is ravi@gmail.com\n",
            "=== Calling Function ===\n",
            "Calling function: update_booking with args: {\"user_id\": \"user123\", \"property\": \"name\", \"value\": \"Ravi\"}\n",
            "=== Function Output ===\n",
            "Booking ID user123 updated with name = Ravi\n",
            "=== Calling Function ===\n",
            "Calling function: update_booking with args: {\"user_id\": \"user123\", \"property\": \"email\", \"value\": \"ravi@gmail.com\"}\n",
            "=== Function Output ===\n",
            "Booking ID user123 updated with email = ravi@gmail.com\n",
            "=== LLM Response ===\n",
            "Thank you, Ravi. Could you please provide your phone number, and the date and time you would like to make the booking for?\n"
          ]
        }
      ]
    },
    {
      "cell_type": "code",
      "source": [
        "response = agent.chat(\"Cool. Phone number is 39429384923, preferred data and time are April 20th and 12PM respectively.\")"
      ],
      "metadata": {
        "colab": {
          "base_uri": "https://localhost:8080/"
        },
        "id": "6ItQatd0LrI8",
        "outputId": "91dfa9f8-99ba-4c1d-9b76-7779ff035e99"
      },
      "execution_count": null,
      "outputs": [
        {
          "output_type": "stream",
          "name": "stdout",
          "text": [
            "Added user message to memory: Cool. Phone number is 39429384923, preferred data and time are April 20th and 12PM respectively.\n",
            "=== Calling Function ===\n",
            "Calling function: update_booking with args: {\"user_id\": \"user123\", \"property\": \"phone\", \"value\": \"39429384923\"}\n",
            "=== Function Output ===\n",
            "Booking ID user123 updated with phone = 39429384923\n",
            "=== Calling Function ===\n",
            "Calling function: update_booking with args: {\"user_id\": \"user123\", \"property\": \"date\", \"value\": \"April 20th\"}\n",
            "=== Function Output ===\n",
            "Booking ID user123 updated with date = April 20th\n",
            "=== Calling Function ===\n",
            "Calling function: update_booking with args: {\"user_id\": \"user123\", \"property\": \"time\", \"value\": \"12PM\"}\n",
            "=== Function Output ===\n",
            "Booking ID user123 updated with time = 12PM\n",
            "=== Calling Function ===\n",
            "Calling function: confirm_booking with args: {\"user_id\": \"user123\"}\n",
            "=== Function Output ===\n",
            "Booking ID user123 confirmed!\n"
          ]
        }
      ]
    },
    {
      "cell_type": "code",
      "source": [
        "response = agent.chat(\"provide booking details of user user123\")"
      ],
      "metadata": {
        "colab": {
          "base_uri": "https://localhost:8080/"
        },
        "id": "QdNVByBqMHZF",
        "outputId": "bf98083d-da21-4062-8833-1bd635cb58fd"
      },
      "execution_count": null,
      "outputs": [
        {
          "output_type": "stream",
          "name": "stdout",
          "text": [
            "Added user message to memory: provide booking details of user user123\n",
            "=== Calling Function ===\n",
            "Calling function: get_booking_state with args: {\"user_id\": \"user123\"}\n",
            "=== Function Output ===\n",
            "{'name': 'Ravi', 'email': 'ravi@gmail.com', 'phone': '39429384923', 'date': 'April 20th', 'time': '12PM'}\n",
            "=== LLM Response ===\n",
            "Here are the booking details for user123:\n",
            "\n",
            "- Name: Ravi\n",
            "- Email: ravi@gmail.com\n",
            "- Phone: 39429384923\n",
            "- Date: April 20th\n",
            "- Time: 12PM\n"
          ]
        }
      ]
    },
    {
      "cell_type": "code",
      "source": [
        "print(response)"
      ],
      "metadata": {
        "id": "XhSfavCswzrh",
        "colab": {
          "base_uri": "https://localhost:8080/"
        },
        "outputId": "edc4bf28-6b96-4c02-f532-843ddfca6348"
      },
      "execution_count": null,
      "outputs": [
        {
          "output_type": "stream",
          "name": "stdout",
          "text": [
            "assistant: Here are the booking details for user123:\n",
            "\n",
            "- Name: Ravi\n",
            "- Email: ravi@gmail.com\n",
            "- Phone: 39429384923\n",
            "- Date: April 20th\n",
            "- Time: 12PM\n"
          ]
        }
      ]
    },
    {
      "cell_type": "markdown",
      "source": [
        "As you can see above the final booking details are sent to LLM for final response."
      ],
      "metadata": {
        "id": "5t0TSGGmfbIx"
      }
    },
    {
      "cell_type": "markdown",
      "source": [
        "### Experiment-2:"
      ],
      "metadata": {
        "id": "JS0wfl7IfQ6H"
      }
    },
    {
      "cell_type": "markdown",
      "source": [
        "#### Create Tools"
      ],
      "metadata": {
        "id": "N_1LAz5AfT5F"
      }
    },
    {
      "cell_type": "code",
      "source": [
        "get_booking_state_tool = FunctionTool.from_defaults(fn=get_booking_state,\n",
        "                                                 return_direct=True)\n",
        "update_booking_tool = FunctionTool.from_defaults(fn=update_booking)\n",
        "create_booking_tool = FunctionTool.from_defaults(fn=create_booking,\n",
        "                                                 return_direct=True)\n",
        "confirm_booking_tool = FunctionTool.from_defaults(fn=confirm_booking,\n",
        "                                                  return_direct=True)"
      ],
      "metadata": {
        "id": "p7TpumMcZK4X"
      },
      "execution_count": null,
      "outputs": []
    },
    {
      "cell_type": "code",
      "source": [
        "user = \"user123\"\n",
        "prefix_messages = [\n",
        "    ChatMessage(\n",
        "        role=\"system\",\n",
        "        content=(\n",
        "            f\"You are now connected to the booking system and helping {user} with making a booking. \"\n",
        "            \"Only enter details that the user has explicitly provided. \"\n",
        "            \"Do not make up any details.\"\n",
        "        ),\n",
        "    )\n",
        "]"
      ],
      "metadata": {
        "id": "wCzV3KbtZNWM"
      },
      "execution_count": null,
      "outputs": []
    },
    {
      "cell_type": "markdown",
      "source": [
        "#### Create Agent"
      ],
      "metadata": {
        "id": "D_XAC_VSfWHg"
      }
    },
    {
      "cell_type": "code",
      "source": [
        "worker = FunctionCallingAgentWorker(\n",
        "    tools=[\n",
        "        get_booking_state_tool,\n",
        "        update_booking_tool,\n",
        "        create_booking_tool,\n",
        "        confirm_booking_tool,\n",
        "    ],\n",
        "    llm=llm,\n",
        "    prefix_messages=prefix_messages,\n",
        "    max_function_calls=10,\n",
        "    allow_parallel_tool_calls=False,\n",
        "    verbose=True,\n",
        ")\n",
        "\n",
        "agent = AgentRunner(worker)"
      ],
      "metadata": {
        "id": "tjiWREXpZPJU"
      },
      "execution_count": null,
      "outputs": []
    },
    {
      "cell_type": "markdown",
      "source": [
        "#### Let's create Booking"
      ],
      "metadata": {
        "id": "QSzTO6vMfYUE"
      }
    },
    {
      "cell_type": "code",
      "source": [
        "response = agent.chat(\"Hello! I would like to make a booking.\")"
      ],
      "metadata": {
        "colab": {
          "base_uri": "https://localhost:8080/"
        },
        "id": "Arc2o-H1ZQ8D",
        "outputId": "c7232407-a0fb-4350-f2b2-7c5ba47d51b6"
      },
      "execution_count": null,
      "outputs": [
        {
          "output_type": "stream",
          "name": "stdout",
          "text": [
            "Added user message to memory: Hello! I would like to make a booking.\n",
            "=== Calling Function ===\n",
            "Calling function: create_booking with args: {\"user_id\": \"user123\"}\n",
            "=== Function Output ===\n",
            "Booking created, but not yet confirmed. Please provide your name, email, phone, date, and time.\n"
          ]
        }
      ]
    },
    {
      "cell_type": "code",
      "source": [
        "response = agent.chat(\"Sure! My name is Ravi, and my email is ravi@gmail.com\")"
      ],
      "metadata": {
        "colab": {
          "base_uri": "https://localhost:8080/"
        },
        "id": "vbdh9i7AZTck",
        "outputId": "d6fbef68-1ff6-4493-b3f9-7ceaa45f5c72"
      },
      "execution_count": null,
      "outputs": [
        {
          "output_type": "stream",
          "name": "stdout",
          "text": [
            "Added user message to memory: Sure! My name is Ravi, and my email is ravi@gmail.com\n",
            "=== Calling Function ===\n",
            "Calling function: update_booking with args: {\"user_id\": \"user123\", \"property\": \"name\", \"value\": \"Ravi\"}\n",
            "=== Function Output ===\n",
            "Booking ID user123 updated with name = Ravi\n",
            "=== Calling Function ===\n",
            "Calling function: update_booking with args: {\"user_id\": \"user123\", \"property\": \"email\", \"value\": \"ravi@gmail.com\"}\n",
            "=== Function Output ===\n",
            "Booking ID user123 updated with email = ravi@gmail.com\n",
            "=== LLM Response ===\n",
            "Thank you, Ravi. Could you please provide your phone number, and the date and time you would like to make the booking for?\n"
          ]
        }
      ]
    },
    {
      "cell_type": "code",
      "source": [
        "response = agent.chat(\"Cool. Phone number is 39429384923, preferred data and time are April 20th and 12PM respectively.\")"
      ],
      "metadata": {
        "colab": {
          "base_uri": "https://localhost:8080/"
        },
        "id": "_Ta0JFyUZdQd",
        "outputId": "2a3f229a-2790-42e4-823b-71d8af518f9a"
      },
      "execution_count": null,
      "outputs": [
        {
          "output_type": "stream",
          "name": "stdout",
          "text": [
            "Added user message to memory: Cool. Phone number is 39429384923, preferred data and time are April 20th and 12PM respectively.\n",
            "=== Calling Function ===\n",
            "Calling function: update_booking with args: {\"user_id\": \"user123\", \"property\": \"phone\", \"value\": \"39429384923\"}\n",
            "=== Function Output ===\n",
            "Booking ID user123 updated with phone = 39429384923\n",
            "=== Calling Function ===\n",
            "Calling function: update_booking with args: {\"user_id\": \"user123\", \"property\": \"date\", \"value\": \"April 20th\"}\n",
            "=== Function Output ===\n",
            "Booking ID user123 updated with date = April 20th\n",
            "=== Calling Function ===\n",
            "Calling function: update_booking with args: {\"user_id\": \"user123\", \"property\": \"time\", \"value\": \"12PM\"}\n",
            "=== Function Output ===\n",
            "Booking ID user123 updated with time = 12PM\n",
            "=== Calling Function ===\n",
            "Calling function: confirm_booking with args: {\"user_id\": \"user123\"}\n",
            "=== Function Output ===\n",
            "Booking ID user123 confirmed!\n"
          ]
        }
      ]
    },
    {
      "cell_type": "code",
      "source": [
        "response = agent.chat(\"provide the booking details\")"
      ],
      "metadata": {
        "colab": {
          "base_uri": "https://localhost:8080/"
        },
        "id": "ek46fXZnZe0l",
        "outputId": "eed56eb2-cf6d-4768-f69f-f061177a19c3"
      },
      "execution_count": null,
      "outputs": [
        {
          "output_type": "stream",
          "name": "stdout",
          "text": [
            "Added user message to memory: provide the booking details\n",
            "=== Calling Function ===\n",
            "Calling function: get_booking_state with args: {\"user_id\": \"user123\"}\n",
            "=== Function Output ===\n",
            "{'name': 'Ravi', 'email': 'ravi@gmail.com', 'phone': '39429384923', 'date': 'April 20th', 'time': '12PM'}\n"
          ]
        }
      ]
    },
    {
      "cell_type": "code",
      "source": [
        "print(response)"
      ],
      "metadata": {
        "colab": {
          "base_uri": "https://localhost:8080/"
        },
        "id": "ExLsCvJ0Ziy2",
        "outputId": "c530816e-caac-43a1-f0bd-7778f5bf3350"
      },
      "execution_count": null,
      "outputs": [
        {
          "output_type": "stream",
          "name": "stdout",
          "text": [
            "{'name': 'Ravi', 'email': 'ravi@gmail.com', 'phone': '39429384923', 'date': 'April 20th', 'time': '12PM'}\n"
          ]
        }
      ]
    },
    {
      "cell_type": "markdown",
      "source": [
        "As you can see the above response with `return_dict` enabled is directly from tool and not sent to LLM for final response"
      ],
      "metadata": {
        "id": "pHe6p99qfiYO"
      }
    }
  ]
}