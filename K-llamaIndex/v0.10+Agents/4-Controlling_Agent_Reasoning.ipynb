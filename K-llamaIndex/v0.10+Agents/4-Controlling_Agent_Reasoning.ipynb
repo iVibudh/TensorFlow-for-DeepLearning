{
  "cells": [
    {
      "cell_type": "markdown",
      "metadata": {
        "id": "7GWvKKFRdxvP"
      },
      "source": [
        "# Controlling Agent Reasoning Loop with `return_direct` in Tools\n",
        "\n",
        "\n",
        "In this tutorial, we'll explore how to control the reasoning loop of an agent using the `return_direct` option available in tools.\n",
        "\n",
        "This feature plays a crucial role in streamlining the agent's decision-making process, particularly when immediate output from a single tool is sufficient for the task at hand rather than sending the output of tool to LLM for final response.\n",
        "\n",
        "Setting `return_direct` to True impacts the agent's reasoning loop. When activated and the corresponding tool is called independently, the loop concludes, and the output from the tool is directly returned.\n",
        "\n",
        "By the end of this tutorial, you'll have a comprehensive understanding of how to leverage the `return_direct` option to enhance the efficiency of an agent's reasoning loop.\n",
        "\n",
        "[LlamaIndex YT Ref](https://www.youtube.com/watch?v=gFRbkRtLGZQ)"
      ]
    },
    {
      "cell_type": "markdown",
      "metadata": {
        "id": "L8TKwkFYft3y"
      },
      "source": [
        "### Installation"
      ]
    },
    {
      "cell_type": "code",
      "execution_count": 1,
      "metadata": {
        "id": "w1rb_v0OfIPS"
      },
      "outputs": [],
      "source": [
        "# !pip install llama-index\n",
        "# !pip install llama-index-llms-openai\n",
        "# !pip install llama-index-llms-ollama"
      ]
    },
    {
      "cell_type": "code",
      "execution_count": 1,
      "metadata": {
        "id": "dd8MzkGuLhtq"
      },
      "outputs": [],
      "source": [
        "from typing import Optional\n",
        "\n",
        "from llama_index.llms.openai import OpenAI\n",
        "from llama_index.llms.ollama import Ollama\n",
        "from llama_index.core.llms import ChatMessage\n",
        "from llama_index.core.tools import BaseTool, FunctionTool\n",
        "from llama_index.core.agent import FunctionCallingAgentWorker\n",
        "from llama_index.core.agent import AgentRunner\n",
        "from llama_index.core.bridge.pydantic import BaseModel"
      ]
    },
    {
      "cell_type": "markdown",
      "metadata": {
        "id": "VN6rmRGzfvxp"
      },
      "source": [
        "### Setup LLM"
      ]
    },
    {
      "cell_type": "code",
      "execution_count": 2,
      "metadata": {
        "id": "ZsWxupGkLd39"
      },
      "outputs": [],
      "source": [
        "import os\n",
        "llm = Ollama(model=\"Hermes2Pro\", \n",
        "            request_timeout=30.0)"
      ]
    },
    {
      "cell_type": "markdown",
      "metadata": {
        "id": "2fyiLNhCdhSz"
      },
      "source": [
        "Here, we are defining a system to manage restaurant bookings using various functions and integrating them into a tool-based architecture.\n",
        "\n",
        "The `Booking` class is a Pydantic model used to track and represent the state of a booking. It includes optional fields like name, email, phone, date, and time, allowing for flexible data entry.\n",
        "\n",
        "`get_booking_state(user_id: str):` Retrieves the current state of a booking using the booking ID. It outputs the booking's details or a message if the ID is not found.\n",
        "\n",
        "`update_booking(user_id: str, property: str, value: str):` Updates a specific property of a booking. It's designed to modify only the provided details.\n",
        "\n",
        "`create_booking(user_id: str):` Initializes a new booking and stores it under a unique ID, prompting the user to provide further details.\n",
        "\n",
        "`confirm_booking(user_id: str):` Finalizes the booking after ensuring all necessary information is provided. If any detail is missing, it raises an error."
      ]
    },
    {
      "cell_type": "code",
      "execution_count": 3,
      "metadata": {
        "id": "YAX6Hk2KLR4r"
      },
      "outputs": [],
      "source": [
        "# we will store booking under random IDs\n",
        "bookings = {}\n",
        "\n",
        "class Booking(BaseModel):\n",
        "    name: Optional[str] = None\n",
        "    email: Optional[str] = None\n",
        "    phone: Optional[str] = None\n",
        "    date: Optional[str] = None\n",
        "    time: Optional[str] = None\n",
        "\n",
        "\n",
        "def get_booking_state(user_id: str) -> str:\n",
        "    \"\"\"Get the current state of a booking for a given booking ID.\"\"\"\n",
        "    try:\n",
        "        return str(bookings[user_id].dict())\n",
        "    except:\n",
        "        return f\"Booking ID {user_id} not found\"\n",
        "\n",
        "\n",
        "def update_booking(user_id: str, property: str, value: str) -> str:\n",
        "    \"\"\"Update a property of a booking for a given booking ID. Only enter details that are explicitly provided.\"\"\"\n",
        "    booking = bookings[user_id]\n",
        "    setattr(booking, property, value)\n",
        "    return f\"Booking ID {user_id} updated with {property} = {value}\"\n",
        "\n",
        "\n",
        "def create_booking(user_id: str) -> str:\n",
        "    \"\"\"Create a new booking and return the booking ID.\"\"\"\n",
        "    bookings[user_id] = Booking()\n",
        "    return \"Booking created, but not yet confirmed. Please provide your name, email, phone, date, and time.\"\n",
        "\n",
        "\n",
        "def confirm_booking(user_id: str) -> str:\n",
        "    \"\"\"Confirm a booking for a given booking ID.\"\"\"\n",
        "    booking = bookings[user_id]\n",
        "\n",
        "    if booking.name is None:\n",
        "        raise ValueError(\"Please provide your name.\")\n",
        "\n",
        "    if booking.email is None:\n",
        "        raise ValueError(\"Please provide your email.\")\n",
        "\n",
        "    if booking.phone is None:\n",
        "        raise ValueError(\"Please provide your phone number.\")\n",
        "\n",
        "    if booking.date is None:\n",
        "        raise ValueError(\"Please provide the date of your booking.\")\n",
        "\n",
        "    if booking.time is None:\n",
        "        raise ValueError(\"Please provide the time of your booking.\")\n",
        "\n",
        "    return f\"Booking ID {user_id} confirmed!\""
      ]
    },
    {
      "cell_type": "markdown",
      "metadata": {
        "id": "yK-gnfyueAR_"
      },
      "source": [
        "We will demonstrate two experiments:\n",
        "\n",
        "**Experiment-1:** `return_direct` is not enabled in `get_booking_state_tool`\n",
        "\n",
        "**Experiment-2:** `return_direct` is enabled in `get_booking_state_tool`\n",
        "\n",
        "Once the entire booking process is complete and confirmed, we will review the booking details to understand how the final response differs when `return_direct` is enabled versus when it is disabled.\n",
        "\n",
        "In both experiments, we will enable `return_direct` for `create_booking_tool` and `confirm_booking_tool` as we don't need the output to be sent to LLM for the final response."
      ]
    },
    {
      "cell_type": "markdown",
      "metadata": {
        "id": "-MaNgeNJe_gT"
      },
      "source": [
        "### Experiment-1:"
      ]
    },
    {
      "cell_type": "markdown",
      "metadata": {
        "id": "TA6cotp2fDAC"
      },
      "source": [
        "#### Create Tools"
      ]
    },
    {
      "cell_type": "code",
      "execution_count": 4,
      "metadata": {
        "id": "xTSPV9M7ZBJN"
      },
      "outputs": [],
      "source": [
        "get_booking_state_tool = FunctionTool.from_defaults(fn=get_booking_state)\n",
        "update_booking_tool = FunctionTool.from_defaults(fn=update_booking)\n",
        "create_booking_tool = FunctionTool.from_defaults(fn=create_booking,\n",
        "                                                 return_direct=True)\n",
        "confirm_booking_tool = FunctionTool.from_defaults(fn=confirm_booking,\n",
        "                                                  return_direct=True)"
      ]
    },
    {
      "cell_type": "code",
      "execution_count": 5,
      "metadata": {
        "id": "2RunKZhOZDyI"
      },
      "outputs": [],
      "source": [
        "user = \"user123\"\n",
        "prefix_messages = [\n",
        "    ChatMessage(\n",
        "        role=\"system\",\n",
        "        content=(\n",
        "            f\"You are now connected to the booking system and helping {user} with making a booking. \"\n",
        "            \"Only enter details that the user has explicitly provided. \"\n",
        "            \"Do not make up any details.\"\n",
        "        ),\n",
        "    )\n",
        "]"
      ]
    },
    {
      "cell_type": "markdown",
      "metadata": {
        "id": "dljg64zzfFER"
      },
      "source": [
        "#### Create Agent"
      ]
    },
    {
      "cell_type": "code",
      "execution_count": 6,
      "metadata": {
        "id": "kPej4q4fLW0X"
      },
      "outputs": [
        {
          "ename": "ValueError",
          "evalue": "Model name Hermes2Pro does not support function calling API. ",
          "output_type": "error",
          "traceback": [
            "\u001b[1;31m---------------------------------------------------------------------------\u001b[0m",
            "\u001b[1;31mValueError\u001b[0m                                Traceback (most recent call last)",
            "Cell \u001b[1;32mIn[6], line 1\u001b[0m\n\u001b[1;32m----> 1\u001b[0m worker \u001b[38;5;241m=\u001b[39m FunctionCallingAgentWorker(\n\u001b[0;32m      2\u001b[0m     tools\u001b[38;5;241m=\u001b[39m[\n\u001b[0;32m      3\u001b[0m         get_booking_state_tool,\n\u001b[0;32m      4\u001b[0m         update_booking_tool,\n\u001b[0;32m      5\u001b[0m         create_booking_tool,\n\u001b[0;32m      6\u001b[0m         confirm_booking_tool,\n\u001b[0;32m      7\u001b[0m     ],\n\u001b[0;32m      8\u001b[0m     llm\u001b[38;5;241m=\u001b[39mllm,\n\u001b[0;32m      9\u001b[0m     prefix_messages\u001b[38;5;241m=\u001b[39mprefix_messages,\n\u001b[0;32m     10\u001b[0m     max_function_calls\u001b[38;5;241m=\u001b[39m\u001b[38;5;241m10\u001b[39m,\n\u001b[0;32m     11\u001b[0m     allow_parallel_tool_calls\u001b[38;5;241m=\u001b[39m\u001b[38;5;28;01mFalse\u001b[39;00m,\n\u001b[0;32m     12\u001b[0m     verbose\u001b[38;5;241m=\u001b[39m\u001b[38;5;28;01mTrue\u001b[39;00m,\n\u001b[0;32m     13\u001b[0m )\n\u001b[0;32m     15\u001b[0m agent \u001b[38;5;241m=\u001b[39m AgentRunner(worker)\n",
            "File \u001b[1;32mc:\\Users\\vibud\\miniconda3\\Lib\\site-packages\\llama_index\\core\\agent\\function_calling\\step.py:69\u001b[0m, in \u001b[0;36mFunctionCallingAgentWorker.__init__\u001b[1;34m(self, tools, llm, prefix_messages, verbose, max_function_calls, callback_manager, tool_retriever, allow_parallel_tool_calls)\u001b[0m\n\u001b[0;32m     67\u001b[0m \u001b[38;5;250m\u001b[39m\u001b[38;5;124;03m\"\"\"Init params.\"\"\"\u001b[39;00m\n\u001b[0;32m     68\u001b[0m \u001b[38;5;28;01mif\u001b[39;00m \u001b[38;5;129;01mnot\u001b[39;00m llm\u001b[38;5;241m.\u001b[39mmetadata\u001b[38;5;241m.\u001b[39mis_function_calling_model:\n\u001b[1;32m---> 69\u001b[0m     \u001b[38;5;28;01mraise\u001b[39;00m \u001b[38;5;167;01mValueError\u001b[39;00m(\n\u001b[0;32m     70\u001b[0m         \u001b[38;5;124mf\u001b[39m\u001b[38;5;124m\"\u001b[39m\u001b[38;5;124mModel name \u001b[39m\u001b[38;5;132;01m{\u001b[39;00mllm\u001b[38;5;241m.\u001b[39mmodel\u001b[38;5;132;01m}\u001b[39;00m\u001b[38;5;124m does not support function calling API. \u001b[39m\u001b[38;5;124m\"\u001b[39m\n\u001b[0;32m     71\u001b[0m     )\n\u001b[0;32m     72\u001b[0m \u001b[38;5;28mself\u001b[39m\u001b[38;5;241m.\u001b[39m_llm \u001b[38;5;241m=\u001b[39m llm\n\u001b[0;32m     73\u001b[0m \u001b[38;5;28mself\u001b[39m\u001b[38;5;241m.\u001b[39m_verbose \u001b[38;5;241m=\u001b[39m verbose\n",
            "\u001b[1;31mValueError\u001b[0m: Model name Hermes2Pro does not support function calling API. "
          ]
        }
      ],
      "source": [
        "worker = FunctionCallingAgentWorker(\n",
        "    tools=[\n",
        "        get_booking_state_tool,\n",
        "        update_booking_tool,\n",
        "        create_booking_tool,\n",
        "        confirm_booking_tool,\n",
        "    ],\n",
        "    llm=llm,\n",
        "    prefix_messages=prefix_messages,\n",
        "    max_function_calls=10,\n",
        "    allow_parallel_tool_calls=False,\n",
        "    verbose=True,\n",
        ")\n",
        "\n",
        "agent = AgentRunner(worker)"
      ]
    },
    {
      "cell_type": "markdown",
      "metadata": {
        "id": "YJGN2l1DfMMQ"
      },
      "source": [
        "#### Let's create booking"
      ]
    },
    {
      "cell_type": "code",
      "execution_count": null,
      "metadata": {
        "colab": {
          "base_uri": "https://localhost:8080/"
        },
        "id": "vXWBwCuMLZWW",
        "outputId": "ad234cf7-b2f6-4fac-b065-6409115ba466"
      },
      "outputs": [
        {
          "name": "stdout",
          "output_type": "stream",
          "text": [
            "Added user message to memory: Hello! I would like to make a booking.\n",
            "=== Calling Function ===\n",
            "Calling function: create_booking with args: {\"user_id\": \"user123\"}\n",
            "=== Function Output ===\n",
            "Booking created, but not yet confirmed. Please provide your name, email, phone, date, and time.\n"
          ]
        }
      ],
      "source": [
        "response = agent.chat(\"Hello! I would like to make a booking.\")"
      ]
    },
    {
      "cell_type": "code",
      "execution_count": null,
      "metadata": {
        "colab": {
          "base_uri": "https://localhost:8080/"
        },
        "id": "RggA5SdhLkT0",
        "outputId": "fe6528d6-35ac-4b60-9982-34530b6b88ad"
      },
      "outputs": [
        {
          "name": "stdout",
          "output_type": "stream",
          "text": [
            "Added user message to memory: Sure! My name is Ravi, and my email is ravi@gmail.com\n",
            "=== Calling Function ===\n",
            "Calling function: update_booking with args: {\"user_id\": \"user123\", \"property\": \"name\", \"value\": \"Ravi\"}\n",
            "=== Function Output ===\n",
            "Booking ID user123 updated with name = Ravi\n",
            "=== Calling Function ===\n",
            "Calling function: update_booking with args: {\"user_id\": \"user123\", \"property\": \"email\", \"value\": \"ravi@gmail.com\"}\n",
            "=== Function Output ===\n",
            "Booking ID user123 updated with email = ravi@gmail.com\n",
            "=== LLM Response ===\n",
            "Thank you, Ravi. Could you please provide your phone number, and the date and time you would like to make the booking for?\n"
          ]
        }
      ],
      "source": [
        "response = agent.chat(\"Sure! My name is Ravi, and my email is ravi@gmail.com\")"
      ]
    },
    {
      "cell_type": "code",
      "execution_count": null,
      "metadata": {
        "colab": {
          "base_uri": "https://localhost:8080/"
        },
        "id": "6ItQatd0LrI8",
        "outputId": "91dfa9f8-99ba-4c1d-9b76-7779ff035e99"
      },
      "outputs": [
        {
          "name": "stdout",
          "output_type": "stream",
          "text": [
            "Added user message to memory: Cool. Phone number is 39429384923, preferred data and time are April 20th and 12PM respectively.\n",
            "=== Calling Function ===\n",
            "Calling function: update_booking with args: {\"user_id\": \"user123\", \"property\": \"phone\", \"value\": \"39429384923\"}\n",
            "=== Function Output ===\n",
            "Booking ID user123 updated with phone = 39429384923\n",
            "=== Calling Function ===\n",
            "Calling function: update_booking with args: {\"user_id\": \"user123\", \"property\": \"date\", \"value\": \"April 20th\"}\n",
            "=== Function Output ===\n",
            "Booking ID user123 updated with date = April 20th\n",
            "=== Calling Function ===\n",
            "Calling function: update_booking with args: {\"user_id\": \"user123\", \"property\": \"time\", \"value\": \"12PM\"}\n",
            "=== Function Output ===\n",
            "Booking ID user123 updated with time = 12PM\n",
            "=== Calling Function ===\n",
            "Calling function: confirm_booking with args: {\"user_id\": \"user123\"}\n",
            "=== Function Output ===\n",
            "Booking ID user123 confirmed!\n"
          ]
        }
      ],
      "source": [
        "response = agent.chat(\"Cool. Phone number is 39429384923, preferred data and time are April 20th and 12PM respectively.\")"
      ]
    },
    {
      "cell_type": "code",
      "execution_count": null,
      "metadata": {
        "colab": {
          "base_uri": "https://localhost:8080/"
        },
        "id": "QdNVByBqMHZF",
        "outputId": "bf98083d-da21-4062-8833-1bd635cb58fd"
      },
      "outputs": [
        {
          "name": "stdout",
          "output_type": "stream",
          "text": [
            "Added user message to memory: provide booking details of user user123\n",
            "=== Calling Function ===\n",
            "Calling function: get_booking_state with args: {\"user_id\": \"user123\"}\n",
            "=== Function Output ===\n",
            "{'name': 'Ravi', 'email': 'ravi@gmail.com', 'phone': '39429384923', 'date': 'April 20th', 'time': '12PM'}\n",
            "=== LLM Response ===\n",
            "Here are the booking details for user123:\n",
            "\n",
            "- Name: Ravi\n",
            "- Email: ravi@gmail.com\n",
            "- Phone: 39429384923\n",
            "- Date: April 20th\n",
            "- Time: 12PM\n"
          ]
        }
      ],
      "source": [
        "response = agent.chat(\"provide booking details of user user123\")"
      ]
    },
    {
      "cell_type": "code",
      "execution_count": null,
      "metadata": {
        "colab": {
          "base_uri": "https://localhost:8080/"
        },
        "id": "XhSfavCswzrh",
        "outputId": "edc4bf28-6b96-4c02-f532-843ddfca6348"
      },
      "outputs": [
        {
          "name": "stdout",
          "output_type": "stream",
          "text": [
            "assistant: Here are the booking details for user123:\n",
            "\n",
            "- Name: Ravi\n",
            "- Email: ravi@gmail.com\n",
            "- Phone: 39429384923\n",
            "- Date: April 20th\n",
            "- Time: 12PM\n"
          ]
        }
      ],
      "source": [
        "print(response)"
      ]
    },
    {
      "cell_type": "markdown",
      "metadata": {
        "id": "5t0TSGGmfbIx"
      },
      "source": [
        "As you can see above the final booking details are sent to LLM for final response."
      ]
    },
    {
      "cell_type": "markdown",
      "metadata": {
        "id": "JS0wfl7IfQ6H"
      },
      "source": [
        "### Experiment-2:"
      ]
    },
    {
      "cell_type": "markdown",
      "metadata": {
        "id": "N_1LAz5AfT5F"
      },
      "source": [
        "#### Create Tools"
      ]
    },
    {
      "cell_type": "code",
      "execution_count": null,
      "metadata": {
        "id": "p7TpumMcZK4X"
      },
      "outputs": [],
      "source": [
        "get_booking_state_tool = FunctionTool.from_defaults(fn=get_booking_state,\n",
        "                                                 return_direct=True)\n",
        "update_booking_tool = FunctionTool.from_defaults(fn=update_booking)\n",
        "create_booking_tool = FunctionTool.from_defaults(fn=create_booking,\n",
        "                                                 return_direct=True)\n",
        "confirm_booking_tool = FunctionTool.from_defaults(fn=confirm_booking,\n",
        "                                                  return_direct=True)"
      ]
    },
    {
      "cell_type": "code",
      "execution_count": null,
      "metadata": {
        "id": "wCzV3KbtZNWM"
      },
      "outputs": [],
      "source": [
        "user = \"user123\"\n",
        "prefix_messages = [\n",
        "    ChatMessage(\n",
        "        role=\"system\",\n",
        "        content=(\n",
        "            f\"You are now connected to the booking system and helping {user} with making a booking. \"\n",
        "            \"Only enter details that the user has explicitly provided. \"\n",
        "            \"Do not make up any details.\"\n",
        "        ),\n",
        "    )\n",
        "]"
      ]
    },
    {
      "cell_type": "markdown",
      "metadata": {
        "id": "D_XAC_VSfWHg"
      },
      "source": [
        "#### Create Agent"
      ]
    },
    {
      "cell_type": "code",
      "execution_count": null,
      "metadata": {
        "id": "tjiWREXpZPJU"
      },
      "outputs": [],
      "source": [
        "worker = FunctionCallingAgentWorker(\n",
        "    tools=[\n",
        "        get_booking_state_tool,\n",
        "        update_booking_tool,\n",
        "        create_booking_tool,\n",
        "        confirm_booking_tool,\n",
        "    ],\n",
        "    llm=llm,\n",
        "    prefix_messages=prefix_messages,\n",
        "    max_function_calls=10,\n",
        "    allow_parallel_tool_calls=False,\n",
        "    verbose=True,\n",
        ")\n",
        "\n",
        "agent = AgentRunner(worker)"
      ]
    },
    {
      "cell_type": "markdown",
      "metadata": {
        "id": "QSzTO6vMfYUE"
      },
      "source": [
        "#### Let's create Booking"
      ]
    },
    {
      "cell_type": "code",
      "execution_count": null,
      "metadata": {
        "colab": {
          "base_uri": "https://localhost:8080/"
        },
        "id": "Arc2o-H1ZQ8D",
        "outputId": "c7232407-a0fb-4350-f2b2-7c5ba47d51b6"
      },
      "outputs": [
        {
          "name": "stdout",
          "output_type": "stream",
          "text": [
            "Added user message to memory: Hello! I would like to make a booking.\n",
            "=== Calling Function ===\n",
            "Calling function: create_booking with args: {\"user_id\": \"user123\"}\n",
            "=== Function Output ===\n",
            "Booking created, but not yet confirmed. Please provide your name, email, phone, date, and time.\n"
          ]
        }
      ],
      "source": [
        "response = agent.chat(\"Hello! I would like to make a booking.\")"
      ]
    },
    {
      "cell_type": "code",
      "execution_count": null,
      "metadata": {
        "colab": {
          "base_uri": "https://localhost:8080/"
        },
        "id": "vbdh9i7AZTck",
        "outputId": "d6fbef68-1ff6-4493-b3f9-7ceaa45f5c72"
      },
      "outputs": [
        {
          "name": "stdout",
          "output_type": "stream",
          "text": [
            "Added user message to memory: Sure! My name is Ravi, and my email is ravi@gmail.com\n",
            "=== Calling Function ===\n",
            "Calling function: update_booking with args: {\"user_id\": \"user123\", \"property\": \"name\", \"value\": \"Ravi\"}\n",
            "=== Function Output ===\n",
            "Booking ID user123 updated with name = Ravi\n",
            "=== Calling Function ===\n",
            "Calling function: update_booking with args: {\"user_id\": \"user123\", \"property\": \"email\", \"value\": \"ravi@gmail.com\"}\n",
            "=== Function Output ===\n",
            "Booking ID user123 updated with email = ravi@gmail.com\n",
            "=== LLM Response ===\n",
            "Thank you, Ravi. Could you please provide your phone number, and the date and time you would like to make the booking for?\n"
          ]
        }
      ],
      "source": [
        "response = agent.chat(\"Sure! My name is Ravi, and my email is ravi@gmail.com\")"
      ]
    },
    {
      "cell_type": "code",
      "execution_count": null,
      "metadata": {
        "colab": {
          "base_uri": "https://localhost:8080/"
        },
        "id": "_Ta0JFyUZdQd",
        "outputId": "2a3f229a-2790-42e4-823b-71d8af518f9a"
      },
      "outputs": [
        {
          "name": "stdout",
          "output_type": "stream",
          "text": [
            "Added user message to memory: Cool. Phone number is 39429384923, preferred data and time are April 20th and 12PM respectively.\n",
            "=== Calling Function ===\n",
            "Calling function: update_booking with args: {\"user_id\": \"user123\", \"property\": \"phone\", \"value\": \"39429384923\"}\n",
            "=== Function Output ===\n",
            "Booking ID user123 updated with phone = 39429384923\n",
            "=== Calling Function ===\n",
            "Calling function: update_booking with args: {\"user_id\": \"user123\", \"property\": \"date\", \"value\": \"April 20th\"}\n",
            "=== Function Output ===\n",
            "Booking ID user123 updated with date = April 20th\n",
            "=== Calling Function ===\n",
            "Calling function: update_booking with args: {\"user_id\": \"user123\", \"property\": \"time\", \"value\": \"12PM\"}\n",
            "=== Function Output ===\n",
            "Booking ID user123 updated with time = 12PM\n",
            "=== Calling Function ===\n",
            "Calling function: confirm_booking with args: {\"user_id\": \"user123\"}\n",
            "=== Function Output ===\n",
            "Booking ID user123 confirmed!\n"
          ]
        }
      ],
      "source": [
        "response = agent.chat(\"Cool. Phone number is 39429384923, preferred data and time are April 20th and 12PM respectively.\")"
      ]
    },
    {
      "cell_type": "code",
      "execution_count": null,
      "metadata": {
        "colab": {
          "base_uri": "https://localhost:8080/"
        },
        "id": "ek46fXZnZe0l",
        "outputId": "eed56eb2-cf6d-4768-f69f-f061177a19c3"
      },
      "outputs": [
        {
          "name": "stdout",
          "output_type": "stream",
          "text": [
            "Added user message to memory: provide the booking details\n",
            "=== Calling Function ===\n",
            "Calling function: get_booking_state with args: {\"user_id\": \"user123\"}\n",
            "=== Function Output ===\n",
            "{'name': 'Ravi', 'email': 'ravi@gmail.com', 'phone': '39429384923', 'date': 'April 20th', 'time': '12PM'}\n"
          ]
        }
      ],
      "source": [
        "response = agent.chat(\"provide the booking details\")"
      ]
    },
    {
      "cell_type": "code",
      "execution_count": null,
      "metadata": {
        "colab": {
          "base_uri": "https://localhost:8080/"
        },
        "id": "ExLsCvJ0Ziy2",
        "outputId": "c530816e-caac-43a1-f0bd-7778f5bf3350"
      },
      "outputs": [
        {
          "name": "stdout",
          "output_type": "stream",
          "text": [
            "{'name': 'Ravi', 'email': 'ravi@gmail.com', 'phone': '39429384923', 'date': 'April 20th', 'time': '12PM'}\n"
          ]
        }
      ],
      "source": [
        "print(response)"
      ]
    },
    {
      "cell_type": "markdown",
      "metadata": {
        "id": "pHe6p99qfiYO"
      },
      "source": [
        "As you can see the above response with `return_dict` enabled is directly from tool and not sent to LLM for final response"
      ]
    }
  ],
  "metadata": {
    "colab": {
      "provenance": []
    },
    "kernelspec": {
      "display_name": "Python 3",
      "name": "python3"
    },
    "language_info": {
      "codemirror_mode": {
        "name": "ipython",
        "version": 3
      },
      "file_extension": ".py",
      "mimetype": "text/x-python",
      "name": "python",
      "nbconvert_exporter": "python",
      "pygments_lexer": "ipython3",
      "version": "3.11.4"
    }
  },
  "nbformat": 4,
  "nbformat_minor": 0
}
