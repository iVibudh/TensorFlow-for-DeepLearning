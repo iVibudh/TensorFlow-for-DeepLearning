{
 "cells": [
  {
   "cell_type": "code",
   "execution_count": null,
   "metadata": {},
   "outputs": [],
   "source": []
  },
  {
   "cell_type": "code",
   "execution_count": 3,
   "metadata": {},
   "outputs": [],
   "source": [
    "# !pip install llama-index-llms-ollama\n",
    "# !pip install llama-index"
   ]
  },
  {
   "cell_type": "code",
   "execution_count": 6,
   "metadata": {},
   "outputs": [],
   "source": [
    "from llama_index.llms.ollama import Ollama\n",
    "\n",
    "llm = Ollama(model=\"nous-hermes2\", request_timeout=30.0)"
   ]
  },
  {
   "cell_type": "code",
   "execution_count": 7,
   "metadata": {},
   "outputs": [
    {
     "name": "stdout",
     "output_type": "stream",
     "text": [
      "Vibudh Singh is not a specific person or character that I am aware of. It could refer to someone you know personally or someone from a book, movie, game, or some other form of media or culture. To provide accurate information about Vibudh Singh or any individual, please provide more context or details about who this person is, such as their occupation, achievements, affiliations, or any significant events related to them. This will enable me to give you precise and relevant information based on the context provided.\n"
     ]
    }
   ],
   "source": [
    "resp = llm.complete(\"Who is Vibudh Singh?\")\n",
    "print(resp)"
   ]
  },
  {
   "cell_type": "code",
   "execution_count": 8,
   "metadata": {},
   "outputs": [
    {
     "data": {
      "text/plain": [
       "CompletionResponse(text=\"My name is Open Assistant. I am a language model that can understand and generate natural human-like text in many languages. I'm designed to help people with various tasks such as providing information, answering questions, generating creative content, and much more. How may I assist you today?\", additional_kwargs={'model': 'nous-hermes2', 'created_at': '2024-03-28T06:44:34.4188537Z', 'done': True, 'context': [32001, 6574, 13, 1976, 460, 345, 28769, 858, 274, 28705, 28750, 548, 264, 9994, 2662, 722, 2195, 501, 6095, 308, 18278, 10895, 6202, 486, 264, 676, 5160, 320, 950, 28711, 1962, 28725, 304, 574, 6032, 304, 5009, 349, 298, 6031, 272, 2188, 395, 707, 2159, 590, 506, 28723, 995, 2659, 13855, 304, 506, 3534, 28725, 19327, 7403, 304, 4109, 515, 28723, 32000, 13, 32001, 1838, 13, 11447, 460, 368, 28804, 1824, 349, 574, 1141, 28804, 32000, 13, 32001, 489, 11143, 13, 5183, 1141, 349, 5629, 21631, 28723, 315, 837, 264, 3842, 2229, 369, 541, 2380, 304, 8270, 4229, 2930, 28733, 4091, 2245, 297, 1287, 14028, 28723, 315, 28742, 28719, 5682, 298, 1316, 905, 395, 4118, 9796, 1259, 390, 7501, 1871, 28725, 24402, 4224, 28725, 20365, 9811, 3036, 28725, 304, 1188, 680, 28723, 1602, 993, 315, 6031, 368, 3154, 28804], 'total_duration': 1242123000, 'load_duration': 994000, 'prompt_eval_count': 14, 'prompt_eval_duration': 272102000, 'eval_count': 59, 'eval_duration': 968024000}, raw={'model': 'nous-hermes2', 'created_at': '2024-03-28T06:44:34.4188537Z', 'response': \"My name is Open Assistant. I am a language model that can understand and generate natural human-like text in many languages. I'm designed to help people with various tasks such as providing information, answering questions, generating creative content, and much more. How may I assist you today?\", 'done': True, 'context': [32001, 6574, 13, 1976, 460, 345, 28769, 858, 274, 28705, 28750, 548, 264, 9994, 2662, 722, 2195, 501, 6095, 308, 18278, 10895, 6202, 486, 264, 676, 5160, 320, 950, 28711, 1962, 28725, 304, 574, 6032, 304, 5009, 349, 298, 6031, 272, 2188, 395, 707, 2159, 590, 506, 28723, 995, 2659, 13855, 304, 506, 3534, 28725, 19327, 7403, 304, 4109, 515, 28723, 32000, 13, 32001, 1838, 13, 11447, 460, 368, 28804, 1824, 349, 574, 1141, 28804, 32000, 13, 32001, 489, 11143, 13, 5183, 1141, 349, 5629, 21631, 28723, 315, 837, 264, 3842, 2229, 369, 541, 2380, 304, 8270, 4229, 2930, 28733, 4091, 2245, 297, 1287, 14028, 28723, 315, 28742, 28719, 5682, 298, 1316, 905, 395, 4118, 9796, 1259, 390, 7501, 1871, 28725, 24402, 4224, 28725, 20365, 9811, 3036, 28725, 304, 1188, 680, 28723, 1602, 993, 315, 6031, 368, 3154, 28804], 'total_duration': 1242123000, 'load_duration': 994000, 'prompt_eval_count': 14, 'prompt_eval_duration': 272102000, 'eval_count': 59, 'eval_duration': 968024000}, logprobs=None, delta=None)"
      ]
     },
     "execution_count": 8,
     "metadata": {},
     "output_type": "execute_result"
    }
   ],
   "source": [
    "llm.complete(\"Who are you? What is your name?\")"
   ]
  }
 ],
 "metadata": {
  "kernelspec": {
   "display_name": "Python 3 (ipykernel)",
   "language": "python",
   "name": "python3"
  },
  "language_info": {
   "codemirror_mode": {
    "name": "ipython",
    "version": 3
   },
   "file_extension": ".py",
   "mimetype": "text/x-python",
   "name": "python",
   "nbconvert_exporter": "python",
   "pygments_lexer": "ipython3",
   "version": "3.11.4"
  }
 },
 "nbformat": 4,
 "nbformat_minor": 2
}
