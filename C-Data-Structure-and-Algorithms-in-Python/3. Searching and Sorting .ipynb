{
 "cells": [
  {
   "cell_type": "markdown",
   "metadata": {},
   "source": [
    "## Topics\n",
    "- Binary search \n",
    "- Recursion \n",
    "- Bubble Sort \n",
    "- Merger Sort \n",
    "- Quick Sort "
   ]
  },
  {
   "cell_type": "markdown",
   "metadata": {},
   "source": [
    "## Binary search \n",
    "- Find if an element is present in a sorted array \n",
    "- Start from the middle \n",
    "\n",
    "https://www.youtube.com/watch?v=0VN5iwEyq4c\n",
    "\n",
    "## Binary search: Efficiency \n",
    "O(power of 2 exponent + 1) <br>\n",
    "=> O(log n + 1) <br>\n",
    "=> O(log n)\n",
    "\n",
    "In Computer Science, usually log means log with a base of 2  \n",
    "https://www.youtube.com/watch?v=7WbRB7dSyvc\n"
   ]
  },
  {
   "cell_type": "code",
   "execution_count": 11,
   "metadata": {},
   "outputs": [
    {
     "name": "stdout",
     "output_type": "stream",
     "text": [
      "-1\n",
      "4\n"
     ]
    }
   ],
   "source": [
    "## Binary Search Practice \n",
    "# Python lists have a method called index(), which just does a search \n",
    "# and returns the first index with an instance of that value. \n",
    "# Next, you're going to write a binary search function that has the same result, \n",
    "# but searches faster. Keep in mind the constraint for this exercise—for binary search, \n",
    "# elements need to be in increasing order.\n",
    "\n",
    "\"\"\"You're going to write a binary search function.\n",
    "You should use an iterative approach - meaning\n",
    "using loops.\n",
    "Your function should take two inputs:\n",
    "a Python list to search through, and the value\n",
    "you're searching for.\n",
    "Assume the list only has distinct elements,\n",
    "meaning there are no repeated values, and \n",
    "elements are in a strictly increasing order.\n",
    "Return the index of value, or -1 if the value\n",
    "doesn't exist in the list.\"\"\"\n",
    "\n",
    "def binary_search(input_array, value):\n",
    "    \"\"\"Your code goes here.\"\"\"\n",
    "    low = 0\n",
    "    high = len(input_array) - 1\n",
    "    mid = 0\n",
    "    \n",
    "    while low <= high:\n",
    "        mid = (high + low)//2\n",
    "        \n",
    "        if input_array[mid] < value:\n",
    "            low = mid + 1\n",
    "        elif input_array[mid] > value:\n",
    "            high = mid -1\n",
    "        else:\n",
    "            return mid\n",
    "            \n",
    "    return -1\n",
    "\n",
    "test_list = [1,3,9,11,15,19,29]\n",
    "test_val1 = 25\n",
    "test_val2 = 15\n",
    "print(binary_search(test_list, test_val1))\n",
    "print(binary_search(test_list, test_val2))"
   ]
  },
  {
   "cell_type": "code",
   "execution_count": 10,
   "metadata": {},
   "outputs": [
    {
     "data": {
      "text/plain": [
       "4"
      ]
     },
     "execution_count": 10,
     "metadata": {},
     "output_type": "execute_result"
    }
   ],
   "source": [
    "mid = (5 + 4)//2\n",
    "mid"
   ]
  },
  {
   "cell_type": "markdown",
   "metadata": {},
   "source": [
    "## Recursion \n",
    "- The function needs to call itself \n",
    "- Base case - or the exit condition (without this Infinite recursion)\n",
    "- alter the input parameter at some point (without this Infinite recursion)\n",
    "\n",
    "https://www.youtube.com/watch?v=_aI2Jch6Epk"
   ]
  },
  {
   "cell_type": "code",
   "execution_count": 16,
   "metadata": {},
   "outputs": [
    {
     "name": "stdout",
     "output_type": "stream",
     "text": [
      "in : 5\n",
      "in : 4\n",
      "in : 3\n",
      "in : 2\n",
      "in : 1\n",
      "out: 0\n",
      "out: 0\n",
      "out: 0\n",
      "out: 0\n",
      "out: 0\n"
     ]
    },
    {
     "data": {
      "text/plain": [
       "0"
      ]
     },
     "execution_count": 16,
     "metadata": {},
     "output_type": "execute_result"
    }
   ],
   "source": [
    "def recursive(input):\n",
    "    if input <= 0:\n",
    "        return input \n",
    "    else:\n",
    "        print(\"in :\", input)\n",
    "        output = recursive(input -1)\n",
    "        print(\"out:\", output)\n",
    "        return output\n",
    "recursive(5)"
   ]
  },
  {
   "cell_type": "code",
   "execution_count": 17,
   "metadata": {},
   "outputs": [
    {
     "data": {
      "text/plain": [
       "[0, 1, 1, 2, 3, 5, 8, 13, 21, 34]"
      ]
     },
     "execution_count": 17,
     "metadata": {},
     "output_type": "execute_result"
    }
   ],
   "source": [
    "## RECURSION PRACTICE - Fibonacci Sequence \n",
    "\n",
    "fib_seq = [0,1,1,2,3,5,8,13,21,34]\n",
    "fib_seq"
   ]
  },
  {
   "cell_type": "code",
   "execution_count": 18,
   "metadata": {},
   "outputs": [],
   "source": [
    "### Non recursive Fibonacci Sequence\n",
    "# function getFib(position) {\n",
    "#   if (position == 0) { return 0; }\n",
    "#   if (position == 1) { return 1; }\n",
    "#   var first = 0,\n",
    "#       second = 1,\n",
    "#       next = first + second;\n",
    "#   for (var i = 2; i < position; i++) {\n",
    "#     first = second;\n",
    "#     second = next;\n",
    "#     next = first + second;\n",
    "#   }\n",
    "#   return next;\n",
    "# }"
   ]
  },
  {
   "cell_type": "code",
   "execution_count": 20,
   "metadata": {},
   "outputs": [
    {
     "name": "stdout",
     "output_type": "stream",
     "text": [
      "34\n",
      "89\n",
      "0\n",
      "-1\n"
     ]
    }
   ],
   "source": [
    "\"\"\"Implement a function recursively to get the desired\n",
    "Fibonacci sequence value.\n",
    "Your code should have the same input/output as the \n",
    "iterative code in the instructions.\"\"\"\n",
    "\n",
    "def get_fib(position):\n",
    "    if position == 0:\n",
    "        return 0\n",
    "    if position == 1:\n",
    "        return 1\n",
    "    if position < 0:\n",
    "        return -1\n",
    "    \n",
    "    fib = get_fib(position -1) + get_fib(position -2)\n",
    "    return fib\n",
    "\n",
    "# Test cases\n",
    "print(get_fib(9))\n",
    "print(get_fib(11))\n",
    "print(get_fib(0))\n",
    "print(get_fib(-3))"
   ]
  },
  {
   "cell_type": "markdown",
   "metadata": {},
   "source": [
    "## Intro to Sorting \n",
    "\n",
    "- Naive approach - complare everything to everything O(n^2)\n",
    "- Inplace Sorting Algorithms: It rearranges the elements in the data structure they are already in without needing to copy everything in a new data structure. Low space complexity \n",
    "\n",
    "https://www.youtube.com/watch?v=Z6yuIen71zM"
   ]
  },
  {
   "cell_type": "markdown",
   "metadata": {},
   "source": [
    "## Bubble Sort \n",
    "- Naive Approach \n",
    "- For each itteration the largest element will move to the end of the array where it belongs. It will Bubble Up\n",
    "- In place sorting algorithm \n",
    " \n",
    "https://www.youtube.com/watch?v=h_osLG3GmjE\n",
    "\n",
    "### Efficiency of Bubble Sort \n",
    "O(n^2)\n",
    "- Worst Case O(n)\n",
    "- Average Cost O(n)\n",
    "- Best Case O(n)\n",
    "\n",
    "Space O(1) - Inplace sorting algorithm\n",
    "\n",
    "https://www.youtube.com/watch?v=KddkHygi7is"
   ]
  },
  {
   "cell_type": "markdown",
   "metadata": {},
   "source": [
    "## Merge Sort \n",
    "Divide and Conquer \n",
    "- The overall idea is that you split a huge array as much as possible and over time you build it bach up doing your comparisons and sorting at each step along the way. \n",
    "\n",
    "https://www.youtube.com/watch?v=K916wfSzKxE\n",
    "\n",
    "### Efficiency of Merge Sort \n",
    "O((no. of comparisons per step)*(Number of steps)) <br>\n",
    "= O(n*leg(n))\n",
    "\n",
    "Auxillary space = O(n) <br>\n",
    "\n",
    "https://www.youtube.com/watch?v=HKiK5Y-YSkk"
   ]
  },
  {
   "cell_type": "markdown",
   "metadata": {},
   "source": [
    "## Quick Sort \n",
    "In most cases, quick sort is one of most efficient sorting algorithms \n",
    "\n",
    "- Pick one of the values in an array of random - Pivot \n",
    "- Move all values larger than it after pivot and all values smaller than before pivot \n",
    "- Continue recursively, picking pivot in upper and lower sections of the array, sorting them similarly until the whole array is sorted. \n",
    "\n",
    "https://www.youtube.com/watch?v=kUon6854joI\n",
    "\n",
    "### Efficiency of Quick Sort \n",
    "- Worst Case O(n^2) <br>\n",
    "When all the array elements are almost sorted. You basically compare all the elements without doing any significant movements. <br>\n",
    "If we know that the array that we are going to get is nearly sorted, then it would look like the worst case.\n",
    "\n",
    "- Average Cost and Best Case - O(nlogn) <br>\n",
    "In a good case, the pivot will move down to the middle and we get to divide the array in half every time.<br>\n",
    "With our pivot in the middle, we can move the pivots of the halves too. <br>\n",
    "Since we will be moving the pivot everytime to the middle, our efficiency will look like Merge sort. \n",
    "\n",
    "- Improvements - Optimizations with Quick Sort to improve run time \n",
    "    - When you split your array, you can configure your program such that it runs both halves at the same time. It will end up consuming almost the same amout of computing power but it will eat up less time. \n",
    "    - Also, rather then selecting the last few elements as the pivot. you can select the median of then as the pivot. Selecting the median will give you a better sence of what is in the middle overall. So, you have a better change of moving your element in the middle and having the best case scenario. \n",
    "    \n",
    "Space O(n) - Inplace sorting algorithm   \n",
    "\n",
    "\n",
    "https://www.youtube.com/watch?v=aMb5GHPGQ1U"
   ]
  },
  {
   "cell_type": "code",
   "execution_count": 23,
   "metadata": {},
   "outputs": [
    {
     "name": "stdout",
     "output_type": "stream",
     "text": [
      "[1, 3, 4, 6, 9, 14, 20, 21, 21, 25]\n"
     ]
    }
   ],
   "source": [
    "def quicksort(arr):\n",
    "    if len(arr) <= 1:\n",
    "        return arr\n",
    "    pivot = arr[0]\n",
    "    left = [x for x in arr[1:] if x <= pivot]\n",
    "    right = [x for x in arr[1:] if x > pivot]\n",
    "    return quicksort(left) + [pivot] + quicksort(right)    \n",
    " \n",
    "test = [21, 4, 1, 3, 9, 20, 25, 6, 21, 14]\n",
    "print(quicksort(test))"
   ]
  },
  {
   "cell_type": "code",
   "execution_count": null,
   "metadata": {},
   "outputs": [],
   "source": []
  },
  {
   "cell_type": "code",
   "execution_count": null,
   "metadata": {},
   "outputs": [],
   "source": []
  }
 ],
 "metadata": {
  "kernelspec": {
   "display_name": "Python 3",
   "language": "python",
   "name": "python3"
  },
  "language_info": {
   "codemirror_mode": {
    "name": "ipython",
    "version": 3
   },
   "file_extension": ".py",
   "mimetype": "text/x-python",
   "name": "python",
   "nbconvert_exporter": "python",
   "pygments_lexer": "ipython3",
   "version": "3.8.5"
  }
 },
 "nbformat": 4,
 "nbformat_minor": 4
}
