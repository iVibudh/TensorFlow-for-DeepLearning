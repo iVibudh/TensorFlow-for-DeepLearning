{
 "cells": [
  {
   "cell_type": "markdown",
   "metadata": {},
   "source": [
    "## Collections \n",
    "- No inherent order <br>\n",
    "So, we cannot say that give me the third element of this collection. Since there are no inherent order. \n",
    "- Can be of the same type or different types\n",
    "- We cannot use collections in a programming languages on its own, however there are many data structures which are extentions of collections. So, they just add more rules to the ones that already apply to collections. \n",
    "\n",
    "https://www.youtube.com/watch?v=cZORvZq-tI0"
   ]
  },
  {
   "cell_type": "markdown",
   "metadata": {},
   "source": [
    "## Lists \n",
    "It has all the properties of a collection. So it has a group of things but the objects have an order. \n",
    "\n",
    "What exactly the implementation looks like for adding elements will change based on the language and the type of data structure. "
   ]
  },
  {
   "cell_type": "markdown",
   "metadata": {},
   "source": [
    "## Arrays\n",
    "\n",
    "- In some languages, array has the same type of objects but in others array may be allowed to have objects of different types. \n",
    "- Array has a fixed size? only true for som eprogramming languages\n",
    "\n",
    "\n",
    "- Each array has an index. This definition differentiates an array from a list \n",
    "- Insert an element \n",
    "    - this could be simple if you are inserting at the end (if array are not of fixed size)\n",
    "    - inserting in between can be more complex - Takes linear time O(n)\n",
    "- Deletion \n",
    "    - More difficult with fixed size array as we have an empty box\n",
    "    - Need to move the empty box to the end - could take linear time O(n)\n",
    "    \n",
    "https://www.youtube.com/watch?v=OnPP5xDmFv0"
   ]
  },
  {
   "cell_type": "markdown",
   "metadata": {},
   "source": [
    "## Python Lists\n",
    "\n",
    "Python has an interesting data stucture called a \"list\" that is much more than a mere list. In fact, a Python list actually encompasses the functionality of almost every list-based data structure in this lesson.\n",
    "\n",
    "Behind the scenes a Python list is built as an array. Even though you can do many operations on a Python list with just one line of code, there's a lot of code built in to the Python language running to make that operation possible.\n",
    "\n",
    "For example, inserting into a list is easy (happens in constant time). However, inserting into an array is O(n), since you may need to shift elements to make space for the one you're inserting, or even copy everything to a new array if you run out of space. Thus, inserting into a Python list is actually O(n), while operations that search for an element at a particular spot are O(1). You can see the runtime of other list operations here. <br>\n",
    "Python list Time Complexity -> https://wiki.python.org/moin/TimeComplexity\n",
    "\n",
    "\n",
    "Python is a \"higher level\" programming language, so you can accomplish a task with little code. However, there's a lot of code built into the infrastructure in this way that causes your code to actually run much more slowly than you'd think. Keep this in the back of your mind when using Python. You likely won't need to know the details of how Python works behind the scenes in a programming interview, but you'll seem very impressive if you do!\n",
    "\n",
    "If you aren't already comfortable with Python lists, you can look through this lesson about basic Python list manipulation.<br>\n",
    "https://developers.google.com/edu/python/lists"
   ]
  },
  {
   "cell_type": "markdown",
   "metadata": {},
   "source": [
    "## Linked List \n",
    "\n",
    "A linked list is an extention of a list but they are not an array. They have order but no indices. Characterizes by it's links. \n",
    "\n",
    "There is nothing in one of the element in array which says anything about the next element. In array you know the next element by looking at the next index. \n",
    "\n",
    "Adding and removing an element in array is more complex. Whereas adding and removing an element in a linked list is soo much easier in comparision. \n",
    "\n",
    "https://www.youtube.com/watch?v=zxkpZrozDUk\n",
    "\n",
    "In high level programming languages there often isn't distintion between linked lists and arrays. Lists has the property of both. \n",
    "\n",
    "Array: Value and Index <br>\n",
    "Linked list: Value and memory address to the next element\n",
    "\n",
    "Doubly Linked List \n",
    "\n",
    "\n",
    "https://www.youtube.com/watch?v=ZONGA5wmREI"
   ]
  },
  {
   "cell_type": "code",
   "execution_count": 2,
   "metadata": {},
   "outputs": [],
   "source": [
    "# Here's the code for an Element, which will be a single unit in a linked list:\n",
    "class Element(object):\n",
    "    def __init__(self, value):\n",
    "        self.value = value\n",
    "        self.next = None\n",
    "        \n",
    "# Now, let's set up a LinkedList class:\n",
    "class LinkedList(object):\n",
    "    def __init__(self, head=None):\n",
    "        self.head = head\n",
    "\n",
    "    # This method will add a new Element to the end of our LinkedList.\n",
    "\n",
    "    def append(self, new_element):\n",
    "        current = self.head\n",
    "        if self.head:\n",
    "            while current.next:\n",
    "                current = current.next\n",
    "            current.next = new_element\n",
    "        else:\n",
    "            self.head = new_element\n",
    "            \n",
    "    def get_position(self, position):\n",
    "        counter = 1\n",
    "        current = self.head\n",
    "        if position < 1:\n",
    "            return None\n",
    "        while current and counter <= position:\n",
    "            if counter == position:\n",
    "                return current\n",
    "            current = current.next\n",
    "            counter += 1\n",
    "        return None\n",
    "\n",
    "    def insert(self, new_element, position):\n",
    "        counter = 1\n",
    "        current = self.head\n",
    "        if position > 1:\n",
    "            while current and counter < position:\n",
    "                if counter == position - 1:\n",
    "                    new_element.next = current.next\n",
    "                    current.next = new_element\n",
    "                current = current.next\n",
    "                counter += 1\n",
    "        elif position == 1:\n",
    "            new_element.next = self.head\n",
    "            self.head = new_element\n",
    "\n",
    "    def delete(self, value):\n",
    "        current = self.head\n",
    "        previous = None\n",
    "        while current.value != value and current.next:\n",
    "            previous = current\n",
    "            current = current.next\n",
    "        if current.value == value:\n",
    "            if previous:\n",
    "                previous.next = current.next\n",
    "            else:\n",
    "                self.head = current.next\n"
   ]
  },
  {
   "cell_type": "code",
   "execution_count": null,
   "metadata": {},
   "outputs": [],
   "source": []
  }
 ],
 "metadata": {
  "kernelspec": {
   "display_name": "Python 3",
   "language": "python",
   "name": "python3"
  },
  "language_info": {
   "codemirror_mode": {
    "name": "ipython",
    "version": 3
   },
   "file_extension": ".py",
   "mimetype": "text/x-python",
   "name": "python",
   "nbconvert_exporter": "python",
   "pygments_lexer": "ipython3",
   "version": "3.8.5"
  }
 },
 "nbformat": 4,
 "nbformat_minor": 4
}
