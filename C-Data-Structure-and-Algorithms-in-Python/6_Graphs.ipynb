{
 "cells": [
  {
   "cell_type": "markdown",
   "metadata": {},
   "source": [
    "## Topics \n",
    "\n",
    "1. Graph Introduction \n",
    "2. What is Graph?\n",
    "3. Directions and Cycles\n",
    "4. Connectivity\n",
    "5. Graph Practice\n",
    "6. Graph representation \n",
    "7. Adjacency Matrix\n",
    "8. Graph Representation Practice\n",
    "9. Graph Traversals\n",
    "10. DFS\n",
    "11. BFS\n",
    "12. Graph Traversal Practice\n",
    "13. Eulerian Path"
   ]
  },
  {
   "cell_type": "markdown",
   "metadata": {},
   "source": [
    "## Graph Introduction\n",
    "\n",
    "A graph is a data structure designed to show relationships between objects. Links to the webpages that may have linked to each other.\n",
    "\n",
    "https://www.youtube.com/watch?v=DFR8F2Q9lgo"
   ]
  },
  {
   "cell_type": "markdown",
   "metadata": {},
   "source": []
  },
  {
   "cell_type": "markdown",
   "metadata": {},
   "source": []
  },
  {
   "cell_type": "markdown",
   "metadata": {},
   "source": []
  },
  {
   "cell_type": "markdown",
   "metadata": {},
   "source": []
  },
  {
   "cell_type": "markdown",
   "metadata": {},
   "source": []
  },
  {
   "cell_type": "markdown",
   "metadata": {},
   "source": []
  },
  {
   "cell_type": "markdown",
   "metadata": {},
   "source": []
  }
 ],
 "metadata": {
  "kernelspec": {
   "display_name": "Python 3",
   "language": "python",
   "name": "python3"
  },
  "language_info": {
   "codemirror_mode": {
    "name": "ipython",
    "version": 3
   },
   "file_extension": ".py",
   "mimetype": "text/x-python",
   "name": "python",
   "nbconvert_exporter": "python",
   "pygments_lexer": "ipython3",
   "version": "3.8.5"
  }
 },
 "nbformat": 4,
 "nbformat_minor": 4
}
