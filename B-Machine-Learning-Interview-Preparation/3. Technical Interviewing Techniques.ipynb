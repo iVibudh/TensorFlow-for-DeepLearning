{
 "cells": [
  {
   "cell_type": "markdown",
   "metadata": {},
   "source": [
    "### Strategies for Answering Technical Questions\n",
    "\n",
    "This lesson focuses on how to approach Data Structures and Algorithms questions, in particular, but we think you'll find that these strategies are applicable across many types of Machine Learning engineering questions."
   ]
  },
  {
   "cell_type": "markdown",
   "metadata": {},
   "source": [
    "### Interview Introduction\n",
    "\n",
    "https://www.youtube.com/watch?v=dRsHYt1Lddc\n",
    "\n",
    "1. Clarifying the Question\n",
    "2. Generating Inputs & Outputs\n",
    "3. Generating Test Cases\n",
    "4. Brainstorming \n",
    "5. Runtime Analysis\n",
    "6. Coding \n",
    "7. Debugging "
   ]
  },
  {
   "cell_type": "markdown",
   "metadata": {},
   "source": [
    "#### 1. Clarifying the Question\n",
    "\n",
    "https://www.youtube.com/watch?v=XvvKBmKC_84\n",
    "\n"
   ]
  }
 ],
 "metadata": {
  "kernelspec": {
   "display_name": "Python 3",
   "language": "python",
   "name": "python3"
  },
  "language_info": {
   "codemirror_mode": {
    "name": "ipython",
    "version": 3
   },
   "file_extension": ".py",
   "mimetype": "text/x-python",
   "name": "python",
   "nbconvert_exporter": "python",
   "pygments_lexer": "ipython3",
   "version": "3.8.5"
  }
 },
 "nbformat": 4,
 "nbformat_minor": 4
}
