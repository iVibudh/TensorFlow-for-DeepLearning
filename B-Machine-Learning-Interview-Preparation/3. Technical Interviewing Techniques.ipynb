{
 "cells": [
  {
   "cell_type": "markdown",
   "metadata": {},
   "source": [
    "### Strategies for Answering Technical Questions\n",
    "\n",
    "This lesson focuses on how to approach Data Structures and Algorithms questions, in particular, but we think you'll find that these strategies are applicable across many types of Machine Learning engineering questions."
   ]
  },
  {
   "cell_type": "markdown",
   "metadata": {},
   "source": [
    "### Interview Introduction\n",
    "\n",
    "https://www.youtube.com/watch?v=dRsHYt1Lddc\n",
    "\n",
    "1. Clarifying the Question\n",
    "2. Generating Inputs & Outputs\n",
    "3. Generating Test Cases\n",
    "4. Brainstorming \n",
    "5. Runtime Analysis\n",
    "6. Coding \n",
    "7. Debugging "
   ]
  },
  {
   "cell_type": "markdown",
   "metadata": {},
   "source": [
    "#### 1. Clarifying the Question\n",
    "https://www.youtube.com/watch?v=XvvKBmKC_84\n",
    "\n",
    "#### 2. Confirming Inputs and Outputs \n",
    "- Confirm the signature of the function. \n",
    "- Constarints on the inputs that you need to check \n",
    "\n",
    "https://www.youtube.com/watch?v=8lPTOG1yLsg\n",
    "\n",
    "#### 3. Test Cases\n",
    "- Input could be none objects or empty objects\n",
    "- Think about edge cases\n",
    "\n",
    "https://www.youtube.com/watch?v=7CNatJ7PqZ4\n",
    "\n",
    "#### 4. Brainstorming\n",
    "- Interviewer is on your side, so take their feedback to solve the questions. \n",
    "- Do not ignore the interviewer's suggestion \n",
    "- Also, try to think about specific datastructes that might help you in solving some problem. \n",
    "\n",
    "https://www.youtube.com/watch?v=LJFYhMDCCsU\n",
    "\n",
    "#### 5. Runtime Analysis\n",
    "- Analyze your code and calculate Big O - \"O\" runtime for your algorithm\n",
    "- It might be the case that at this stage you may realize that your solution was not optimal. \n",
    "\n",
    "https://www.youtube.com/watch?v=8bI9OgOB2qI\n",
    "\n",
    "#### 6. Coding\n",
    "- Instead of just reading your code, try to interat with your interviewer and explain them why you are writing something \n",
    "- This allows the interviewer to jump in and help if your logic is wrong. \n",
    "\n",
    "https://www.youtube.com/watch?v=zhQYREUI8Z0\n",
    "\n",
    "#### 7. Debugging \n",
    "- check for any possible error - syntax or logical errors\n",
    "- dry run for test cases\n",
    "\n",
    "https://www.youtube.com/watch?v=Bz1tlvkql9Q\n",
    "\n",
    "#### 8. Interview Wrap-Up\n",
    "Nanodegree- Career Resource Center resources:\n",
    "- Career projects\n",
    "- Resume reviewed\n",
    "- LinkedIn polished\n",
    "- cover letter critiqued\n",
    "- Github graded \n",
    "- Improved interviews\n",
    "\n",
    "https://www.youtube.com/watch?v=sz4Ekcu9a_Q"
   ]
  },
  {
   "cell_type": "markdown",
   "metadata": {},
   "source": [
    "### Practice Moch interviews\n",
    "https://www.pramp.com/#/sign-up"
   ]
  },
  {
   "cell_type": "code",
   "execution_count": null,
   "metadata": {},
   "outputs": [],
   "source": []
  }
 ],
 "metadata": {
  "kernelspec": {
   "display_name": "Python 3",
   "language": "python",
   "name": "python3"
  },
  "language_info": {
   "codemirror_mode": {
    "name": "ipython",
    "version": 3
   },
   "file_extension": ".py",
   "mimetype": "text/x-python",
   "name": "python",
   "nbconvert_exporter": "python",
   "pygments_lexer": "ipython3",
   "version": "3.8.5"
  }
 },
 "nbformat": 4,
 "nbformat_minor": 4
}
