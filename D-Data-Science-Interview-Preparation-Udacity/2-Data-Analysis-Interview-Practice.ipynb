{
 "cells": [
  {
   "cell_type": "markdown",
   "metadata": {},
   "source": [
    "## Topics\n",
    "\n",
    "1. Introduction \n",
    "2. Analyzing an Interview\n",
    "3. Quiz: Analyzing an Interview\n",
    "4. Free Throw Probability\n",
    "5. Query a SQL database\n",
    "6. Maximum Difference in an Integer\n",
    "7. Design a Spam Classifier\n",
    "8. Jimmy's Analysis of the Interview\n",
    "9. Next Steps"
   ]
  },
  {
   "cell_type": "markdown",
   "metadata": {},
   "source": [
    "## 1. Introduction\n",
    "\n",
    "#### Data Analyst Mock Interview\n",
    "\n",
    "The mock interview will show the kind of questions you would encounter in a Data Analyst interview.\n",
    "\n",
    "In addition to watching the mock interview, you'll also do the following:\n",
    "- Critique each response that the candidate gives\n",
    "- Hear feedback from the interviewer\n",
    "This exercise will help you prepare well for your own interviews.\n"
   ]
  },
  {
   "cell_type": "markdown",
   "metadata": {},
   "source": [
    "## 2. Analyzing Technical Answers\n",
    "It's time to play the role of the interviewer. You will observe a mixture of behavorial and technical questions. Try to \"think like the employer.\" Make sure to compare your analysis with our analysis at the end."
   ]
  },
  {
   "cell_type": "markdown",
   "metadata": {},
   "source": [
    "## 3. Quiz: \n",
    "\n",
    "https://www.youtube.com/watch?v=cXluuqCVg18\n",
    "\n",
    "https://www.youtube.com/watch?v=wkWDrSBBtz0"
   ]
  },
  {
   "cell_type": "markdown",
   "metadata": {},
   "source": [
    "## 4. Free Throw Probability\n",
    "\n",
    "https://www.youtube.com/watch?v=Zyq0FQ0XO3o\n",
    "\n",
    "https://www.youtube.com/watch?v=pDELcPTP2BI"
   ]
  },
  {
   "cell_type": "markdown",
   "metadata": {},
   "source": [
    "## 5. Query a SQL Database\n",
    "\n",
    "https://www.youtube.com/watch?v=UVSFLWdAKl4"
   ]
  },
  {
   "cell_type": "markdown",
   "metadata": {},
   "source": [
    "## 6. Maximum Difference in an Integer Array\n",
    "\n",
    "https://www.youtube.com/watch?v=i3RTW83wI1Q\n",
    "\n",
    "https://www.youtube.com/watch?v=R9AtVBq2Z5E"
   ]
  },
  {
   "cell_type": "markdown",
   "metadata": {},
   "source": [
    "## 7. Design a Spam Classifier\n",
    "\n",
    "- Bias for companies is a good point of discussion \n",
    "- Naive Bayes (is a good one but the porblem is that the events in this problem might not be independent)\n",
    "- Logistic Regression \n",
    "- Support Vector Machines\n",
    "    - slower to train on larger dataset \n",
    "    \n",
    "https://www.youtube.com/watch?v=qRv1wrtgsmM\n",
    "\n",
    "##### Feedback\n",
    "- How to convert a problem so that the machine can learn from it. \n",
    "- It is something that needs practice. You need to have that wit to come up with the right features.\n",
    "\n",
    "\n",
    "https://www.youtube.com/watch?v=Uy89Ff49pRc"
   ]
  },
  {
   "cell_type": "markdown",
   "metadata": {},
   "source": [
    "## 8. Jimmy's Analysis of the interview\n",
    "\n",
    "- ask clarifying questions \n",
    "- stay connected with the interviewer during the process of getting to the answer\n",
    "- Once you have agreed to the solution with the interviewer, then you can start working on the solution. <br>\n",
    "(This way you are also explaining what you are doing to the interviewer, which is to be able to explain things to the other of what you are doing)\n",
    "- Be more familiar to the machine learning algorithm that you mention in an interview. \n",
    "\n",
    "\n",
    "https://www.youtube.com/watch?v=wg535YU4jFw"
   ]
  },
  {
   "cell_type": "markdown",
   "metadata": {},
   "source": [
    "## Next Steps\n",
    "\n",
    "In order to achieve mastery in interviewing, do the following:\n",
    "\n",
    "- Visit the Career Resource Center for additional resources and practice questions. <br>\n",
    "https://career-resource-center.udacity.com/interviews\n",
    "- Practice coding on a whiteboard or online text editor instead of using an IDE and compiler.\n",
    "- Practice interview questions with another person, using our interview checklist.<br>\n",
    "https://docs.google.com/document/d/e/2PACX-1vQa4quKMxBWnMe42emXY6P57p-2zJD3hcwCUKlQkZfEf5mI5MzRyxsjwMzOG7orNb55qYeKWRDI65zs/pub\n",
    "\n",
    "By adopting the interviewing practices from this lesson and practicing as much as possible, you will make the best impression in an actual interview."
   ]
  },
  {
   "cell_type": "markdown",
   "metadata": {},
   "source": []
  }
 ],
 "metadata": {
  "kernelspec": {
   "display_name": "Python 3",
   "language": "python",
   "name": "python3"
  },
  "language_info": {
   "codemirror_mode": {
    "name": "ipython",
    "version": 3
   },
   "file_extension": ".py",
   "mimetype": "text/x-python",
   "name": "python",
   "nbconvert_exporter": "python",
   "pygments_lexer": "ipython3",
   "version": "3.8.5"
  }
 },
 "nbformat": 4,
 "nbformat_minor": 4
}
